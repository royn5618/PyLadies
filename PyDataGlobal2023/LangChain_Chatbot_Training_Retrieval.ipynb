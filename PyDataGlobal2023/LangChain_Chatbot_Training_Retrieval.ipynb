{
 "cells": [
  {
   "cell_type": "code",
   "execution_count": 1,
   "id": "549fa3c0",
   "metadata": {
    "ExecuteTime": {
     "end_time": "2023-12-07T11:15:26.490268Z",
     "start_time": "2023-12-07T11:15:23.577518Z"
    }
   },
   "outputs": [],
   "source": [
    "from glob import glob\n",
    "import os\n",
    "\n",
    "from langchain.vectorstores import Chroma\n",
    "from langchain.document_loaders import PyPDFLoader\n",
    "from langchain.embeddings import OpenAIEmbeddings\n",
    "from langchain.text_splitter import RecursiveCharacterTextSplitter\n",
    "from langchain.chat_models import ChatOpenAI\n",
    "from langchain.memory import ConversationBufferMemory\n",
    "from langchain.chains import ConversationalRetrievalChain"
   ]
  },
  {
   "cell_type": "code",
   "execution_count": 2,
   "id": "7cbdf1ae",
   "metadata": {
    "ExecuteTime": {
     "end_time": "2023-12-07T11:15:26.499760Z",
     "start_time": "2023-12-07T11:15:26.491654Z"
    }
   },
   "outputs": [],
   "source": [
    "MODEL= \"text-embedding-ada-002\"\n",
    "VECDB_DIR = 'Vectordb/chroma/'"
   ]
  },
  {
   "cell_type": "code",
   "execution_count": 3,
   "id": "b4167f88",
   "metadata": {
    "ExecuteTime": {
     "end_time": "2023-12-07T11:15:26.515154Z",
     "start_time": "2023-12-07T11:15:26.502560Z"
    }
   },
   "outputs": [
    {
     "data": {
      "text/plain": [
       "['Data\\\\TrinityPostgraduateProspectus2024.pdf']"
      ]
     },
     "execution_count": 3,
     "metadata": {},
     "output_type": "execute_result"
    }
   ],
   "source": [
    "glob(\"Data/*.pdf\")"
   ]
  },
  {
   "cell_type": "code",
   "execution_count": 4,
   "id": "0c2a5ee9",
   "metadata": {
    "ExecuteTime": {
     "end_time": "2023-12-07T11:15:32.287985Z",
     "start_time": "2023-12-07T11:15:26.518170Z"
    }
   },
   "outputs": [],
   "source": [
    "docs = []\n",
    "for each_file in glob(\"Data/*.pdf\"):\n",
    "    loader = PyPDFLoader(each_file)\n",
    "    # print(loader)\n",
    "    docs.extend(loader.load())"
   ]
  },
  {
   "cell_type": "code",
   "execution_count": 5,
   "id": "58a2bf04",
   "metadata": {
    "ExecuteTime": {
     "end_time": "2023-12-07T11:15:32.295371Z",
     "start_time": "2023-12-07T11:15:32.287985Z"
    }
   },
   "outputs": [],
   "source": [
    "text_splitter = RecursiveCharacterTextSplitter(\n",
    "    chunk_size = 2500,\n",
    "    chunk_overlap = 250\n",
    ")"
   ]
  },
  {
   "cell_type": "code",
   "execution_count": 6,
   "id": "3dd0240f",
   "metadata": {
    "ExecuteTime": {
     "end_time": "2023-12-07T11:15:32.332703Z",
     "start_time": "2023-12-07T11:15:32.295371Z"
    }
   },
   "outputs": [
    {
     "data": {
      "text/plain": [
       "187"
      ]
     },
     "execution_count": 6,
     "metadata": {},
     "output_type": "execute_result"
    }
   ],
   "source": [
    "splits = text_splitter.split_documents(docs)\n",
    "len(splits)"
   ]
  },
  {
   "cell_type": "code",
   "execution_count": 7,
   "id": "9ce4eb45",
   "metadata": {
    "ExecuteTime": {
     "end_time": "2023-12-07T11:15:33.332379Z",
     "start_time": "2023-12-07T11:15:32.332703Z"
    }
   },
   "outputs": [],
   "source": [
    "embeddings = OpenAIEmbeddings(openai_api_key=os.environ['OPENAI_API_KEY'],\n",
    "                              model=MODEL,\n",
    "                              chunk_size=16)"
   ]
  },
  {
   "cell_type": "code",
   "execution_count": 8,
   "id": "d29cb00e",
   "metadata": {
    "ExecuteTime": {
     "end_time": "2023-12-07T11:15:52.989443Z",
     "start_time": "2023-12-07T11:15:33.335406Z"
    }
   },
   "outputs": [],
   "source": [
    "vectordb = Chroma.from_documents(\n",
    "    documents=splits,\n",
    "    embedding=embeddings,\n",
    "    persist_directory=VECDB_DIR\n",
    ")"
   ]
  },
  {
   "cell_type": "code",
   "execution_count": 9,
   "id": "06fe1a09",
   "metadata": {
    "ExecuteTime": {
     "end_time": "2023-12-07T11:15:52.995951Z",
     "start_time": "2023-12-07T11:15:52.990450Z"
    }
   },
   "outputs": [],
   "source": [
    "# Reloading\n",
    "# vectordb = Chroma(persist_directory=VECDB_DIR, embedding_function=embeddings)"
   ]
  },
  {
   "cell_type": "code",
   "execution_count": 10,
   "id": "6dced895",
   "metadata": {
    "ExecuteTime": {
     "end_time": "2023-12-07T11:15:53.071371Z",
     "start_time": "2023-12-07T11:15:52.999159Z"
    }
   },
   "outputs": [],
   "source": [
    "llm = ChatOpenAI(openai_api_key=os.environ['OPENAI_API_KEY'],\n",
    "                 model_name='gpt-3.5-turbo',\n",
    "                 temperature=0)"
   ]
  },
  {
   "cell_type": "code",
   "execution_count": 11,
   "id": "741a9140",
   "metadata": {
    "ExecuteTime": {
     "end_time": "2023-12-07T11:15:53.082702Z",
     "start_time": "2023-12-07T11:15:53.076385Z"
    }
   },
   "outputs": [],
   "source": [
    "memory = ConversationBufferMemory(memory_key=\"chat_history\",\n",
    "                                  return_messages=True)"
   ]
  },
  {
   "cell_type": "code",
   "execution_count": 12,
   "id": "b28b3563",
   "metadata": {
    "ExecuteTime": {
     "end_time": "2023-12-07T11:15:53.098284Z",
     "start_time": "2023-12-07T11:15:53.087735Z"
    }
   },
   "outputs": [],
   "source": [
    "retriever = vectordb.as_retriever()\n",
    "qa = ConversationalRetrievalChain.from_llm(llm,\n",
    "                                           retriever=retriever,\n",
    "                                           memory=memory)"
   ]
  },
  {
   "cell_type": "code",
   "execution_count": 13,
   "id": "f5bd0bd1",
   "metadata": {
    "ExecuteTime": {
     "end_time": "2023-12-07T11:15:58.921230Z",
     "start_time": "2023-12-07T11:15:53.103301Z"
    }
   },
   "outputs": [
    {
     "data": {
      "text/plain": [
       "{'question': 'What is this?',\n",
       " 'chat_history': [HumanMessage(content='What is this?'),\n",
       "  AIMessage(content='This is a description of two different courses offered by Trinity College Dublin, The University of Dublin. The first course is in Information Engineering, which focuses on designing computational products and systems. The second course is in International Development, which prepares students for careers in the field of international development. The descriptions provide information about the career opportunities and admission requirements for each course.')],\n",
       " 'answer': 'This is a description of two different courses offered by Trinity College Dublin, The University of Dublin. The first course is in Information Engineering, which focuses on designing computational products and systems. The second course is in International Development, which prepares students for careers in the field of international development. The descriptions provide information about the career opportunities and admission requirements for each course.'}"
      ]
     },
     "execution_count": 13,
     "metadata": {},
     "output_type": "execute_result"
    }
   ],
   "source": [
    "question = \"What is this?\"\n",
    "result = qa({\"question\": question})\n",
    "result"
   ]
  },
  {
   "cell_type": "code",
   "execution_count": null,
   "id": "98409e60",
   "metadata": {},
   "outputs": [],
   "source": []
  },
  {
   "cell_type": "code",
   "execution_count": null,
   "id": "b342ddb6",
   "metadata": {},
   "outputs": [],
   "source": []
  }
 ],
 "metadata": {
  "kernelspec": {
   "display_name": "Python 3 (ipykernel)",
   "language": "python",
   "name": "python3"
  },
  "language_info": {
   "codemirror_mode": {
    "name": "ipython",
    "version": 3
   },
   "file_extension": ".py",
   "mimetype": "text/x-python",
   "name": "python",
   "nbconvert_exporter": "python",
   "pygments_lexer": "ipython3",
   "version": "3.11.3"
  },
  "toc": {
   "base_numbering": 1,
   "nav_menu": {},
   "number_sections": true,
   "sideBar": true,
   "skip_h1_title": false,
   "title_cell": "Table of Contents",
   "title_sidebar": "Contents",
   "toc_cell": false,
   "toc_position": {},
   "toc_section_display": true,
   "toc_window_display": false
  },
  "varInspector": {
   "cols": {
    "lenName": 16,
    "lenType": 16,
    "lenVar": 40
   },
   "kernels_config": {
    "python": {
     "delete_cmd_postfix": "",
     "delete_cmd_prefix": "del ",
     "library": "var_list.py",
     "varRefreshCmd": "print(var_dic_list())"
    },
    "r": {
     "delete_cmd_postfix": ") ",
     "delete_cmd_prefix": "rm(",
     "library": "var_list.r",
     "varRefreshCmd": "cat(var_dic_list()) "
    }
   },
   "types_to_exclude": [
    "module",
    "function",
    "builtin_function_or_method",
    "instance",
    "_Feature"
   ],
   "window_display": false
  }
 },
 "nbformat": 4,
 "nbformat_minor": 5
}
