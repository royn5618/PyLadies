{
 "cells": [
  {
   "cell_type": "markdown",
   "id": "efd4de3a",
   "metadata": {},
   "source": [
    "# Imports"
   ]
  },
  {
   "cell_type": "code",
   "execution_count": 1,
   "id": "549fa3c0",
   "metadata": {
    "ExecuteTime": {
     "end_time": "2023-12-08T07:39:06.003679Z",
     "start_time": "2023-12-08T07:38:59.347159Z"
    }
   },
   "outputs": [],
   "source": [
    "from glob import glob\n",
    "import os\n",
    "\n",
    "from langchain.vectorstores import Chroma\n",
    "from langchain.document_loaders import PyPDFLoader\n",
    "from langchain.embeddings import OpenAIEmbeddings\n",
    "from langchain.text_splitter import RecursiveCharacterTextSplitter\n",
    "from langchain.chat_models import ChatOpenAI\n",
    "from langchain.memory import ConversationBufferMemory\n",
    "from langchain.chains import ConversationalRetrievalChain"
   ]
  },
  {
   "cell_type": "code",
   "execution_count": 2,
   "id": "7cbdf1ae",
   "metadata": {
    "ExecuteTime": {
     "end_time": "2023-12-08T07:39:06.020223Z",
     "start_time": "2023-12-08T07:39:06.011221Z"
    }
   },
   "outputs": [],
   "source": [
    "MODEL= \"text-embedding-ada-002\"\n",
    "VECDB_DIR = 'Vectordb/chroma/'"
   ]
  },
  {
   "cell_type": "code",
   "execution_count": 3,
   "id": "b4167f88",
   "metadata": {
    "ExecuteTime": {
     "end_time": "2023-12-08T07:39:06.055354Z",
     "start_time": "2023-12-08T07:39:06.025924Z"
    }
   },
   "outputs": [
    {
     "data": {
      "text/plain": [
       "['Data\\\\TrinityPostgraduateProspectus2024.pdf']"
      ]
     },
     "execution_count": 3,
     "metadata": {},
     "output_type": "execute_result"
    }
   ],
   "source": [
    "glob(\"Data/*.pdf\")"
   ]
  },
  {
   "cell_type": "markdown",
   "id": "68a7c92d",
   "metadata": {},
   "source": [
    "# PyPDFLoader\n",
    "\n",
    "Load PDF using pypdf into list of documents."
   ]
  },
  {
   "cell_type": "code",
   "execution_count": 4,
   "id": "0c2a5ee9",
   "metadata": {
    "ExecuteTime": {
     "end_time": "2023-12-08T07:39:21.246965Z",
     "start_time": "2023-12-08T07:39:06.059930Z"
    }
   },
   "outputs": [],
   "source": [
    "docs = []\n",
    "for each_file in glob(\"Data/*.pdf\"):\n",
    "    loader = PyPDFLoader(each_file)\n",
    "    # print(loader)\n",
    "    docs.extend(loader.load())"
   ]
  },
  {
   "cell_type": "markdown",
   "id": "d735b127",
   "metadata": {},
   "source": [
    "# Split Documents\n",
    "\n",
    "When you want to deal with long pieces of text, you need to split it into smaller chunks that can fit into your model's context window.\n",
    "\n",
    "At a high level, text splitters work as following:\n",
    "\n",
    "- Split the text up into smaller chunks.\n",
    "- Start combining these small chunks into a larger chunk until you reach a certain size.\n",
    "- Once you reach that size, make that chunk its own piece of text and then start creating a new chunk of text with some overlap.\n",
    "\n",
    "To customize your text splitter, you need to know\n",
    "\n",
    "- How the text is split\n",
    "- How the chunk size is measured\n",
    "\n",
    "**RecursiveCharacterTextSplitter** - It tries to split on ( \"\\n\\n\", \"\\n\", \" \", \"\" ) in order until the chunks are small enough. This has the effect of trying to keep all paragraphs (and then sentences, and then words) together as long as possible, as those would generically seem to be the strongest semantically related pieces of text."
   ]
  },
  {
   "cell_type": "code",
   "execution_count": 5,
   "id": "58a2bf04",
   "metadata": {
    "ExecuteTime": {
     "end_time": "2023-12-08T07:39:21.265564Z",
     "start_time": "2023-12-08T07:39:21.255500Z"
    }
   },
   "outputs": [],
   "source": [
    "#intiate\n",
    "\n",
    "text_splitter = RecursiveCharacterTextSplitter(\n",
    "    chunk_size = 2500,\n",
    "    chunk_overlap = 250\n",
    ")"
   ]
  },
  {
   "cell_type": "code",
   "execution_count": 6,
   "id": "3dd0240f",
   "metadata": {
    "ExecuteTime": {
     "end_time": "2023-12-08T07:39:21.323557Z",
     "start_time": "2023-12-08T07:39:21.273345Z"
    }
   },
   "outputs": [
    {
     "data": {
      "text/plain": [
       "187"
      ]
     },
     "execution_count": 6,
     "metadata": {},
     "output_type": "execute_result"
    }
   ],
   "source": [
    "# split\n",
    "\n",
    "splits = text_splitter.split_documents(docs)\n",
    "len(splits)"
   ]
  },
  {
   "cell_type": "markdown",
   "id": "14697bc7",
   "metadata": {},
   "source": [
    "# Embeddings\n",
    "\n",
    "Convert your text into a vector (a series of numbers that hold the semantic 'meaning' of your text).\n",
    "\n",
    "Word vectors are used to assess text similarity and fetch relevant content."
   ]
  },
  {
   "cell_type": "code",
   "execution_count": 7,
   "id": "9ce4eb45",
   "metadata": {
    "ExecuteTime": {
     "end_time": "2023-12-08T07:39:23.469314Z",
     "start_time": "2023-12-08T07:39:21.325120Z"
    }
   },
   "outputs": [],
   "source": [
    "embeddings = OpenAIEmbeddings(openai_api_key=os.environ['OPENAI_API_KEY'],\n",
    "                              model=MODEL,\n",
    "                              chunk_size=16)"
   ]
  },
  {
   "cell_type": "markdown",
   "id": "00c0cf7d",
   "metadata": {},
   "source": [
    "# Store in Vector DB\n",
    "\n",
    "A vector store takes care of storing embedded data and performing vector search for you."
   ]
  },
  {
   "cell_type": "code",
   "execution_count": 8,
   "id": "d29cb00e",
   "metadata": {
    "ExecuteTime": {
     "end_time": "2023-12-08T07:39:47.883013Z",
     "start_time": "2023-12-08T07:39:23.475847Z"
    }
   },
   "outputs": [],
   "source": [
    "vectordb = Chroma.from_documents(\n",
    "    documents=splits,\n",
    "    embedding=embeddings,\n",
    "    persist_directory=VECDB_DIR\n",
    ")"
   ]
  },
  {
   "cell_type": "code",
   "execution_count": 9,
   "id": "06fe1a09",
   "metadata": {
    "ExecuteTime": {
     "end_time": "2023-12-08T07:39:47.898574Z",
     "start_time": "2023-12-08T07:39:47.883587Z"
    }
   },
   "outputs": [],
   "source": [
    "# Reloading\n",
    "# vectordb = Chroma(persist_directory=VECDB_DIR, embedding_function=embeddings)"
   ]
  },
  {
   "cell_type": "markdown",
   "id": "ed60cbab",
   "metadata": {},
   "source": [
    "# Chatting with OpenAI\n",
    "\n",
    "OpenAI Chat large language models API.\n",
    "To use, you should have the openai python package installed, and the environment variable OPENAI_API_KEY set with your API key.\n",
    "\n",
    "**Memory**\n",
    "\n",
    "Help LLMs remember information. Memory is a bit of a loose term. It could be as simple as remembering information you've chatted about in the past or more complicated information retrieval.\n",
    "\n",
    "**Retriever**\n",
    "\n",
    "A vector store retriever is a retriever that uses a vector store to retrieve documents."
   ]
  },
  {
   "cell_type": "code",
   "execution_count": 10,
   "id": "6dced895",
   "metadata": {
    "ExecuteTime": {
     "end_time": "2023-12-08T07:39:48.014093Z",
     "start_time": "2023-12-08T07:39:47.915952Z"
    }
   },
   "outputs": [],
   "source": [
    "llm = ChatOpenAI(openai_api_key=os.environ['OPENAI_API_KEY'],\n",
    "                 model_name='gpt-3.5-turbo',\n",
    "                 temperature=0)"
   ]
  },
  {
   "cell_type": "code",
   "execution_count": 11,
   "id": "741a9140",
   "metadata": {
    "ExecuteTime": {
     "end_time": "2023-12-08T07:39:48.031798Z",
     "start_time": "2023-12-08T07:39:48.016353Z"
    }
   },
   "outputs": [],
   "source": [
    "memory = ConversationBufferMemory(memory_key=\"chat_history\",\n",
    "                                  return_messages=True)"
   ]
  },
  {
   "cell_type": "markdown",
   "id": "26c526c0",
   "metadata": {},
   "source": [
    "**ConversationalRetrievalChain** \n",
    "\n",
    "Chain for having a conversation based on retrieved documents.\n",
    "This chain takes in chat history (a list of messages) and new questions, and then returns an answer to that question. \n",
    "\n",
    "The algorithm for this chain consists of three parts:\n",
    "\n",
    "1. Use the chat history and the new question to create a “standalone question”. This is done so that this question can be passed into the retrieval step to fetch relevant documents. If only the new question was passed in, then relevant context may be lacking. If the whole conversation was passed into retrieval, there may be unnecessary information there that would distract from retrieval.\n",
    "\n",
    "2. This new question is passed to the retriever and relevant documents are returned.\n",
    "\n",
    "3. The retrieved documents are passed to an LLM along with either the new question (default behavior) or the original question and chat history to generate a final response."
   ]
  },
  {
   "cell_type": "code",
   "execution_count": 12,
   "id": "b28b3563",
   "metadata": {
    "ExecuteTime": {
     "end_time": "2023-12-08T07:39:48.052971Z",
     "start_time": "2023-12-08T07:39:48.039220Z"
    }
   },
   "outputs": [],
   "source": [
    "retriever = vectordb.as_retriever() # search_type -> similarity or maximum marginal relevance\n",
    "qa = ConversationalRetrievalChain.from_llm(llm,\n",
    "                                           retriever=retriever,\n",
    "                                           memory=memory)"
   ]
  },
  {
   "cell_type": "code",
   "execution_count": 14,
   "id": "f5bd0bd1",
   "metadata": {
    "ExecuteTime": {
     "end_time": "2023-12-08T07:41:40.838566Z",
     "start_time": "2023-12-08T07:41:35.738415Z"
    }
   },
   "outputs": [
    {
     "data": {
      "text/plain": [
       "{'question': 'What is this docuemnt about?',\n",
       " 'chat_history': [HumanMessage(content='What is this?'),\n",
       "  AIMessage(content='This is a description of two different courses offered by Trinity College Dublin, The University of Dublin. The first course is in Information Engineering, which focuses on designing computational products and systems. The second course is in International Development, which prepares students for careers in the field of international development. The description includes information about career opportunities and admission requirements for each course.'),\n",
       "  HumanMessage(content='What is this docuemnt about?'),\n",
       "  AIMessage(content='The document is about a postgraduate course in Comparative Literature at Trinity College Dublin. It provides information about the course structure, career opportunities for graduates, and admission requirements.')],\n",
       " 'answer': 'The document is about a postgraduate course in Comparative Literature at Trinity College Dublin. It provides information about the course structure, career opportunities for graduates, and admission requirements.'}"
      ]
     },
     "execution_count": 14,
     "metadata": {},
     "output_type": "execute_result"
    }
   ],
   "source": [
    "question = \"What is this docuemnt about?\"\n",
    "result = qa({\"question\": question})\n",
    "result"
   ]
  },
  {
   "cell_type": "code",
   "execution_count": 15,
   "id": "98409e60",
   "metadata": {
    "ExecuteTime": {
     "end_time": "2023-12-08T07:42:24.263050Z",
     "start_time": "2023-12-08T07:42:16.047662Z"
    }
   },
   "outputs": [
    {
     "data": {
      "text/plain": [
       "{'question': 'What are the career opportunities in this subject?',\n",
       " 'chat_history': [HumanMessage(content='What is this?'),\n",
       "  AIMessage(content='This is a description of two different courses offered by Trinity College Dublin, The University of Dublin. The first course is in Information Engineering, which focuses on designing computational products and systems. The second course is in International Development, which prepares students for careers in the field of international development. The description includes information about career opportunities and admission requirements for each course.'),\n",
       "  HumanMessage(content='What is this docuemnt about?'),\n",
       "  AIMessage(content='The document is about a postgraduate course in Comparative Literature at Trinity College Dublin. It provides information about the course structure, career opportunities for graduates, and admission requirements.'),\n",
       "  HumanMessage(content='What are the career opportunities in this subject?'),\n",
       "  AIMessage(content=\"The career opportunities in Comparative Literature at Trinity College Dublin are diverse. Graduates of the program have gone on to pursue careers in education, the arts and culture sector, librarianship, publishing, journalism, broadcasting, public relations, social work, the civil service, and management. Many alumni have also become successful writers. Additionally, this Master's program provides a solid platform for advancing to doctoral research.\")],\n",
       " 'answer': \"The career opportunities in Comparative Literature at Trinity College Dublin are diverse. Graduates of the program have gone on to pursue careers in education, the arts and culture sector, librarianship, publishing, journalism, broadcasting, public relations, social work, the civil service, and management. Many alumni have also become successful writers. Additionally, this Master's program provides a solid platform for advancing to doctoral research.\"}"
      ]
     },
     "execution_count": 15,
     "metadata": {},
     "output_type": "execute_result"
    }
   ],
   "source": [
    "question = \"What are the career opportunities in this subject?\"\n",
    "result = qa({\"question\": question})\n",
    "result"
   ]
  },
  {
   "cell_type": "code",
   "execution_count": 18,
   "id": "25735553",
   "metadata": {
    "ExecuteTime": {
     "end_time": "2023-12-08T07:44:26.217715Z",
     "start_time": "2023-12-08T07:44:17.415870Z"
    }
   },
   "outputs": [
    {
     "data": {
      "text/plain": [
       "{'question': 'What are the admission requirements for this subject?',\n",
       " 'chat_history': [HumanMessage(content='What is this?'),\n",
       "  AIMessage(content='This is a description of two different courses offered by Trinity College Dublin, The University of Dublin. The first course is in Information Engineering, which focuses on designing computational products and systems. The second course is in International Development, which prepares students for careers in the field of international development. The description includes information about career opportunities and admission requirements for each course.'),\n",
       "  HumanMessage(content='What is this docuemnt about?'),\n",
       "  AIMessage(content='The document is about a postgraduate course in Comparative Literature at Trinity College Dublin. It provides information about the course structure, career opportunities for graduates, and admission requirements.'),\n",
       "  HumanMessage(content='What are the career opportunities in this subject?'),\n",
       "  AIMessage(content=\"The career opportunities in Comparative Literature at Trinity College Dublin are diverse. Graduates of the program have gone on to pursue careers in education, the arts and culture sector, librarianship, publishing, journalism, broadcasting, public relations, social work, the civil service, and management. Many alumni have also become successful writers. Additionally, this Master's program provides a solid platform for advancing to doctoral research.\"),\n",
       "  HumanMessage(content='What is the course structure in this subject?'),\n",
       "  AIMessage(content=\"I'm sorry, but I don't have any information about the course structure for the postgraduate course in Comparative Literature at Trinity College Dublin.\"),\n",
       "  HumanMessage(content='What is the course structure for this subject?'),\n",
       "  AIMessage(content=\"I'm sorry, but I don't have any information about the course structure for the postgraduate course in Comparative Literature at Trinity College Dublin.\"),\n",
       "  HumanMessage(content='What are the admission requirements for this subject?'),\n",
       "  AIMessage(content=\"The admission requirements for the postgraduate course in Comparative Literature at Trinity College Dublin are as follows:\\n\\n- Applicants must possess a minimum 2.1 honours degree or international equivalent.\\n- Two academic referees are required. However, applicants with work experience can provide one academic and one professional referee instead.\\n- Applicants whose first language is not English and were not educated in the language will need to complete an English competency exam, in line with Trinity's postgraduate English language requirements.\\n\\nFor more information, you can visit the Trinity College Dublin website at www.tcd.ie/study.\")],\n",
       " 'answer': \"The admission requirements for the postgraduate course in Comparative Literature at Trinity College Dublin are as follows:\\n\\n- Applicants must possess a minimum 2.1 honours degree or international equivalent.\\n- Two academic referees are required. However, applicants with work experience can provide one academic and one professional referee instead.\\n- Applicants whose first language is not English and were not educated in the language will need to complete an English competency exam, in line with Trinity's postgraduate English language requirements.\\n\\nFor more information, you can visit the Trinity College Dublin website at www.tcd.ie/study.\"}"
      ]
     },
     "execution_count": 18,
     "metadata": {},
     "output_type": "execute_result"
    }
   ],
   "source": [
    "question = \"What are the admission requirements for this subject?\"\n",
    "result = qa({\"question\": question})\n",
    "result"
   ]
  },
  {
   "cell_type": "code",
   "execution_count": null,
   "id": "b342ddb6",
   "metadata": {},
   "outputs": [],
   "source": []
  }
 ],
 "metadata": {
  "kernelspec": {
   "display_name": "Python 3 (ipykernel)",
   "language": "python",
   "name": "python3"
  },
  "language_info": {
   "codemirror_mode": {
    "name": "ipython",
    "version": 3
   },
   "file_extension": ".py",
   "mimetype": "text/x-python",
   "name": "python",
   "nbconvert_exporter": "python",
   "pygments_lexer": "ipython3",
   "version": "3.11.3"
  },
  "toc": {
   "base_numbering": 1,
   "nav_menu": {},
   "number_sections": true,
   "sideBar": true,
   "skip_h1_title": false,
   "title_cell": "Table of Contents",
   "title_sidebar": "Contents",
   "toc_cell": false,
   "toc_position": {},
   "toc_section_display": true,
   "toc_window_display": true
  },
  "varInspector": {
   "cols": {
    "lenName": 16,
    "lenType": 16,
    "lenVar": 40
   },
   "kernels_config": {
    "python": {
     "delete_cmd_postfix": "",
     "delete_cmd_prefix": "del ",
     "library": "var_list.py",
     "varRefreshCmd": "print(var_dic_list())"
    },
    "r": {
     "delete_cmd_postfix": ") ",
     "delete_cmd_prefix": "rm(",
     "library": "var_list.r",
     "varRefreshCmd": "cat(var_dic_list()) "
    }
   },
   "types_to_exclude": [
    "module",
    "function",
    "builtin_function_or_method",
    "instance",
    "_Feature"
   ],
   "window_display": false
  }
 },
 "nbformat": 4,
 "nbformat_minor": 5
}
