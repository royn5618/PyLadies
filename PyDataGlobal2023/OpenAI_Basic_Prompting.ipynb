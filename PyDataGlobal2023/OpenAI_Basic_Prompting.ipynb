{
 "cells": [
  {
   "cell_type": "markdown",
   "id": "438f46cf",
   "metadata": {},
   "source": [
    "# Install and Import OpenAI"
   ]
  },
  {
   "cell_type": "code",
   "execution_count": 3,
   "id": "063563e5",
   "metadata": {
    "ExecuteTime": {
     "end_time": "2023-12-08T04:27:24.148995Z",
     "start_time": "2023-12-08T04:27:24.137317Z"
    }
   },
   "outputs": [],
   "source": [
    "import os\n",
    "from openai import OpenAI"
   ]
  },
  {
   "cell_type": "markdown",
   "id": "f26144af",
   "metadata": {},
   "source": [
    "# Use your API Key to initiate"
   ]
  },
  {
   "cell_type": "code",
   "execution_count": 4,
   "id": "e2e2be6f",
   "metadata": {
    "ExecuteTime": {
     "end_time": "2023-12-08T04:27:24.792075Z",
     "start_time": "2023-12-08T04:27:24.735196Z"
    }
   },
   "outputs": [],
   "source": [
    "# client = OpenAI(api_key=your_api_key)\n",
    "client = OpenAI(api_key=os.environ['OPENAI_API_KEY'])"
   ]
  },
  {
   "cell_type": "markdown",
   "id": "56e02850",
   "metadata": {},
   "source": [
    "# Paramters to watch\n",
    "\n",
    "- model - Select the relevant model\n",
    "- temperature - Select how creative or how factual you want to go\n",
    "- messages - Send appropriate instructions with related context"
   ]
  },
  {
   "cell_type": "code",
   "execution_count": 10,
   "id": "500ecb7e",
   "metadata": {
    "ExecuteTime": {
     "end_time": "2023-12-08T04:30:34.584867Z",
     "start_time": "2023-12-08T04:30:18.459874Z"
    }
   },
   "outputs": [],
   "source": [
    "completion = client.chat.completions.create(\n",
    "    model=\"gpt-3.5-turbo\",\n",
    "    temperature=0,\n",
    "    messages=[{\n",
    "        \"role\":\n",
    "        \"system\",\n",
    "        \"content\":\n",
    "        \"You are an recruitment assistant who helps in writing job descriptions for advertising amazing opportunities withing XYZ and bring the right talent in.\"\n",
    "    }, {\n",
    "        \"role\": \"user\",\n",
    "        \"content\": \"Generate a job description for a Data Scientist.\"\n",
    "    }])"
   ]
  },
  {
   "cell_type": "code",
   "execution_count": 11,
   "id": "5fe5ac6b",
   "metadata": {
    "ExecuteTime": {
     "end_time": "2023-12-08T04:30:34.668694Z",
     "start_time": "2023-12-08T04:30:34.649994Z"
    }
   },
   "outputs": [
    {
     "name": "stdout",
     "output_type": "stream",
     "text": [
      "Job Title: Data Scientist\n",
      "\n",
      "Company: XYZ\n",
      "\n",
      "Location: [Insert Location]\n",
      "\n",
      "Job Type: Full-time\n",
      "\n",
      "About XYZ:\n",
      "XYZ is a leading technology company that specializes in [insert specific industry or field]. We are committed to revolutionizing the way businesses operate by leveraging data-driven insights and cutting-edge technologies. As a data-driven organization, we are seeking a talented Data Scientist to join our dynamic team and contribute to our mission of driving innovation and delivering exceptional results.\n",
      "\n",
      "Job Overview:\n",
      "As a Data Scientist at XYZ, you will play a crucial role in analyzing complex datasets, developing predictive models, and providing actionable insights to drive business growth. You will collaborate with cross-functional teams to identify business challenges, design experiments, and develop innovative solutions using advanced statistical and machine learning techniques. This is an exciting opportunity for a highly analytical individual who is passionate about leveraging data to make a significant impact on business outcomes.\n",
      "\n",
      "Responsibilities:\n",
      "- Analyze large, complex datasets to identify trends, patterns, and insights that drive business decisions.\n",
      "- Develop and implement predictive models and algorithms to solve business problems and optimize processes.\n",
      "- Collaborate with cross-functional teams to define project objectives, design experiments, and develop data-driven solutions.\n",
      "- Apply statistical techniques and machine learning algorithms to extract actionable insights from structured and unstructured data.\n",
      "- Communicate findings and recommendations to stakeholders in a clear and concise manner, both verbally and through data visualizations.\n",
      "- Stay up-to-date with the latest advancements in data science and technology, and proactively identify opportunities to apply new methodologies and tools.\n",
      "- Collaborate with data engineers and software developers to deploy models and algorithms into production systems.\n",
      "\n",
      "Requirements:\n",
      "- Bachelor's degree in Computer Science, Statistics, Mathematics, or a related field. Master's or Ph.D. degree is preferred.\n",
      "- Proven experience as a Data Scientist or similar role, with a strong track record of delivering impactful insights and solutions.\n",
      "- Proficiency in programming languages such as Python or R, and experience with data manipulation and analysis libraries (e.g., Pandas, NumPy, SciPy).\n",
      "- Strong knowledge of statistical modeling techniques, machine learning algorithms, and data visualization tools.\n",
      "- Experience with big data technologies (e.g., Hadoop, Spark) and cloud platforms (e.g., AWS, Azure) is a plus.\n",
      "- Excellent problem-solving skills and the ability to work independently as well as in a team environment.\n",
      "- Strong communication skills, with the ability to present complex findings to both technical and non-technical stakeholders.\n",
      "\n",
      "Benefits:\n",
      "- Competitive salary and comprehensive benefits package.\n",
      "- Opportunities for professional growth and career advancement.\n",
      "- Collaborative and inclusive work environment.\n",
      "- Access to cutting-edge technologies and tools.\n",
      "- Work-life balance and flexible work arrangements.\n",
      "\n",
      "Join XYZ and be part of a dynamic team that is shaping the future of [insert specific industry or field]. Apply now and contribute your expertise to drive innovation and make a meaningful impact on our business and customers.\n",
      "\n",
      "Note: This job description is intended to convey information essential to understanding the scope of the Data Scientist position at XYZ. It is not intended to be an exhaustive list of qualifications, skills, duties, or responsibilities associated with the role.\n"
     ]
    }
   ],
   "source": [
    "print(completion.choices[0].message.content)"
   ]
  },
  {
   "cell_type": "markdown",
   "id": "6771f5e7",
   "metadata": {},
   "source": [
    "# Make changes to the prompt messages to get the desired output"
   ]
  },
  {
   "cell_type": "code",
   "execution_count": 12,
   "id": "3267b5f1",
   "metadata": {
    "ExecuteTime": {
     "end_time": "2023-12-08T04:40:29.610590Z",
     "start_time": "2023-12-08T04:40:16.635106Z"
    }
   },
   "outputs": [],
   "source": [
    "completion = client.chat.completions.create(\n",
    "    model=\"gpt-3.5-turbo\",\n",
    "    temperature=0,\n",
    "    messages=[{\n",
    "        \"role\":\n",
    "        \"system\",\n",
    "        \"content\":\n",
    "        \"You are an recruitment assistant who helps in writing job descriptions for advertising amazing opportunities withing XYZ and bring the right talent in.\"\n",
    "    }, {\n",
    "        \"role\": \"user\",\n",
    "        \"content\": \"Generate a job description for a Data Scientist for Dublin, Ireland. Tailor the content to suit Irish culture.\"\n",
    "    }])"
   ]
  },
  {
   "cell_type": "code",
   "execution_count": 13,
   "id": "1c4cab28",
   "metadata": {
    "ExecuteTime": {
     "end_time": "2023-12-08T04:40:39.869565Z",
     "start_time": "2023-12-08T04:40:39.858012Z"
    }
   },
   "outputs": [
    {
     "name": "stdout",
     "output_type": "stream",
     "text": [
      "Job Title: Data Scientist\n",
      "\n",
      "Location: Dublin, Ireland\n",
      "\n",
      "Company: XYZ\n",
      "\n",
      "About XYZ:\n",
      "XYZ is a leading technology company that specializes in providing innovative solutions to businesses across various industries. With a strong focus on data-driven decision making, we are committed to helping our clients unlock the full potential of their data. As a Data Scientist at XYZ, you will have the opportunity to work with cutting-edge technologies and collaborate with a diverse team of professionals.\n",
      "\n",
      "Job Description:\n",
      "We are seeking a talented and passionate Data Scientist to join our team in Dublin, Ireland. As a Data Scientist at XYZ, you will be responsible for analyzing complex datasets, developing predictive models, and providing actionable insights to drive business growth. You will work closely with cross-functional teams to identify opportunities, design experiments, and develop innovative solutions.\n",
      "\n",
      "Responsibilities:\n",
      "- Analyze large and complex datasets to identify patterns, trends, and insights.\n",
      "- Develop predictive models and algorithms to solve business problems.\n",
      "- Collaborate with cross-functional teams to define project objectives and deliverables.\n",
      "- Design and execute experiments to validate hypotheses and improve model performance.\n",
      "- Communicate findings and insights to stakeholders in a clear and concise manner.\n",
      "- Stay up-to-date with the latest advancements in data science and machine learning.\n",
      "\n",
      "Requirements:\n",
      "- Bachelor's degree in Computer Science, Statistics, Mathematics, or a related field.\n",
      "- Proven experience as a Data Scientist or similar role.\n",
      "- Strong knowledge of statistical analysis, machine learning, and data mining techniques.\n",
      "- Proficiency in programming languages such as Python, R, or Java.\n",
      "- Experience with data visualization tools such as Tableau or Power BI.\n",
      "- Excellent problem-solving and analytical skills.\n",
      "- Strong communication and presentation skills.\n",
      "- Ability to work effectively in a collaborative team environment.\n",
      "\n",
      "Culture Fit:\n",
      "At XYZ, we value diversity, collaboration, and innovation. We believe in fostering a supportive and inclusive work environment where everyone's ideas are heard and respected. As an Irish company, we embrace the warm and friendly culture of Ireland, and we encourage our employees to bring their unique perspectives and experiences to the table.\n",
      "\n",
      "Benefits:\n",
      "- Competitive salary and benefits package.\n",
      "- Flexible working hours and remote work options.\n",
      "- Opportunities for professional development and growth.\n",
      "- Fun and inclusive company culture with regular team-building activities.\n",
      "- Convenient location in the heart of Dublin with easy access to public transportation.\n",
      "\n",
      "How to Apply:\n",
      "If you are a talented Data Scientist who is passionate about leveraging data to drive business success, we would love to hear from you. Please submit your resume and a cover letter explaining why you are interested in joining XYZ and how your skills and experience align with the role.\n"
     ]
    }
   ],
   "source": [
    "print(completion.choices[0].message.content)"
   ]
  }
 ],
 "metadata": {
  "kernelspec": {
   "display_name": "Python 3 (ipykernel)",
   "language": "python",
   "name": "python3"
  },
  "language_info": {
   "codemirror_mode": {
    "name": "ipython",
    "version": 3
   },
   "file_extension": ".py",
   "mimetype": "text/x-python",
   "name": "python",
   "nbconvert_exporter": "python",
   "pygments_lexer": "ipython3",
   "version": "3.11.3"
  },
  "toc": {
   "base_numbering": 1,
   "nav_menu": {},
   "number_sections": true,
   "sideBar": true,
   "skip_h1_title": false,
   "title_cell": "Table of Contents",
   "title_sidebar": "Contents",
   "toc_cell": false,
   "toc_position": {},
   "toc_section_display": true,
   "toc_window_display": false
  },
  "varInspector": {
   "cols": {
    "lenName": 16,
    "lenType": 16,
    "lenVar": 40
   },
   "kernels_config": {
    "python": {
     "delete_cmd_postfix": "",
     "delete_cmd_prefix": "del ",
     "library": "var_list.py",
     "varRefreshCmd": "print(var_dic_list())"
    },
    "r": {
     "delete_cmd_postfix": ") ",
     "delete_cmd_prefix": "rm(",
     "library": "var_list.r",
     "varRefreshCmd": "cat(var_dic_list()) "
    }
   },
   "types_to_exclude": [
    "module",
    "function",
    "builtin_function_or_method",
    "instance",
    "_Feature"
   ],
   "window_display": false
  }
 },
 "nbformat": 4,
 "nbformat_minor": 5
}
