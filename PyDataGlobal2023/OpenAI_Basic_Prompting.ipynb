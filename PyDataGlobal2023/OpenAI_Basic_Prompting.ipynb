{
 "cells": [
  {
   "cell_type": "markdown",
   "id": "96182726",
   "metadata": {},
   "source": [
    "# Install and Import OpenAI"
   ]
  },
  {
   "cell_type": "code",
   "execution_count": 3,
   "id": "f0ea4b11",
   "metadata": {
    "ExecuteTime": {
     "end_time": "2023-12-08T04:27:24.148995Z",
     "start_time": "2023-12-08T04:27:24.137317Z"
    }
   },
   "outputs": [],
   "source": [
    "import os\n",
    "from openai import OpenAI"
   ]
  },
  {
   "cell_type": "markdown",
   "id": "fe107423",
   "metadata": {},
   "source": [
    "# Use your API Key to initiate"
   ]
  },
  {
   "cell_type": "code",
   "execution_count": 4,
   "id": "c377e3e8",
   "metadata": {
    "ExecuteTime": {
     "end_time": "2023-12-08T04:27:24.792075Z",
     "start_time": "2023-12-08T04:27:24.735196Z"
    }
   },
   "outputs": [],
   "source": [
    "# client = OpenAI(api_key=your_api_key)\n",
    "client = OpenAI(api_key=os.environ['OPENAI_API_KEY'])"
   ]
  },
  {
   "cell_type": "markdown",
   "id": "ea4cb1ff",
   "metadata": {},
   "source": [
    "# Paramters to watch\n",
    "\n",
    "- model - Select the relevant model\n",
    "- temperature - Select how creative or how factual you want to go\n",
    "- messages - Send appropriate instructions with related context"
   ]
  },
  {
   "cell_type": "code",
   "execution_count": 14,
   "id": "ef26049d",
   "metadata": {
    "ExecuteTime": {
     "end_time": "2023-12-08T05:53:27.329019Z",
     "start_time": "2023-12-08T05:53:18.281420Z"
    }
   },
   "outputs": [],
   "source": [
    "completion = client.chat.completions.create(\n",
    "    model=\"gpt-3.5-turbo\",\n",
    "    temperature=0,\n",
    "    messages=[{\n",
    "        \"role\":\n",
    "        \"system\",\n",
    "        \"content\":\n",
    "        \"You are an recruitment assistant who helps in writing job descriptions for advertising amazing opportunities withing XYZ and bring the right talent in.\"\n",
    "    }, {\n",
    "        \"role\": \"user\",\n",
    "        \"content\": \"Generate a job description for a Data Scientist.\"\n",
    "    }])"
   ]
  },
  {
   "cell_type": "code",
   "execution_count": 15,
   "id": "d6213e6a",
   "metadata": {
    "ExecuteTime": {
     "end_time": "2023-12-08T05:53:29.781158Z",
     "start_time": "2023-12-08T05:53:29.766977Z"
    }
   },
   "outputs": [
    {
     "name": "stdout",
     "output_type": "stream",
     "text": [
      "Sure, here's a job description for a Data Scientist position:\n",
      "\n",
      "Title: Data Scientist\n",
      "\n",
      "Location: [Insert location]\n",
      "\n",
      "Company: XYZ\n",
      "\n",
      "We are looking for a talented and experienced Data Scientist to join our team at XYZ. As a Data Scientist, you will be responsible for analyzing complex datasets, developing custom models and algorithms, and generating actionable insights to drive business decisions.\n",
      "\n",
      "Responsibilities:\n",
      "- Work closely with cross-functional teams to identify and prioritize business challenges that can be addressed through data analysis and modeling\n",
      "- Develop and implement custom machine learning models and algorithms to solve specific business problems\n",
      "- Analyze large, complex datasets to extract meaningful patterns and insights\n",
      "- Design and conduct experiments to test hypotheses and validate models\n",
      "- Communicate findings and insights to stakeholders in a clear and actionable manner\n",
      "- Stay up-to-date with the latest developments in data science and machine learning to continuously improve our analytical capabilities\n",
      "\n",
      "Requirements:\n",
      "- Bachelor's or Master's degree in Computer Science, Statistics, Mathematics, or a related field\n",
      "- Proven experience as a Data Scientist or similar role\n",
      "- Strong programming skills in languages such as Python, R, or Java\n",
      "- Experience with machine learning frameworks and libraries (e.g., TensorFlow, scikit-learn, PyTorch)\n",
      "- Proficiency in SQL and database management\n",
      "- Excellent analytical and problem-solving skills\n",
      "- Strong communication and presentation abilities\n",
      "- Ability to work effectively in a fast-paced, collaborative environment\n",
      "\n",
      "Preferred qualifications:\n",
      "- PhD in a quantitative field\n",
      "- Experience with big data technologies (e.g., Hadoop, Spark)\n",
      "- Knowledge of data visualization tools (e.g., Tableau, Power BI)\n",
      "\n",
      "If you are passionate about leveraging data to drive business impact and thrive in a dynamic, innovative environment, we would love to hear from you. Join us at XYZ and be part of a team that is shaping the future through data-driven insights.\n",
      "\n",
      "To apply, please submit your resume and a cover letter detailing your relevant experience and why you are interested in this position. We look forward to reviewing your application.\n"
     ]
    }
   ],
   "source": [
    "print(completion.choices[0].message.content)"
   ]
  },
  {
   "cell_type": "markdown",
   "id": "6df57b0d",
   "metadata": {},
   "source": [
    "# Make changes to the prompt messages to get the desired output"
   ]
  },
  {
   "cell_type": "code",
   "execution_count": 12,
   "id": "3b2a3f16",
   "metadata": {
    "ExecuteTime": {
     "end_time": "2023-12-08T04:40:29.610590Z",
     "start_time": "2023-12-08T04:40:16.635106Z"
    }
   },
   "outputs": [],
   "source": [
    "completion = client.chat.completions.create(\n",
    "    model=\"gpt-3.5-turbo\",\n",
    "    temperature=0,\n",
    "    messages=[{\n",
    "        \"role\":\n",
    "        \"system\",\n",
    "        \"content\":\n",
    "        \"You are an recruitment assistant who helps in writing job descriptions for advertising amazing opportunities withing XYZ and bring the right talent in.\"\n",
    "    }, {\n",
    "        \"role\": \"user\",\n",
    "        \"content\": \"Generate a job description for a Data Scientist for Dublin, Ireland. Tailor the content to suit Irish culture.\"\n",
    "    }])"
   ]
  },
  {
   "cell_type": "code",
   "execution_count": 13,
   "id": "12cded4b",
   "metadata": {
    "ExecuteTime": {
     "end_time": "2023-12-08T04:40:39.869565Z",
     "start_time": "2023-12-08T04:40:39.858012Z"
    }
   },
   "outputs": [
    {
     "name": "stdout",
     "output_type": "stream",
     "text": [
      "Job Title: Data Scientist\n",
      "\n",
      "Location: Dublin, Ireland\n",
      "\n",
      "Company: XYZ\n",
      "\n",
      "About XYZ:\n",
      "XYZ is a leading technology company that specializes in providing innovative solutions to businesses across various industries. With a strong focus on data-driven decision making, we are committed to helping our clients unlock the full potential of their data. As a Data Scientist at XYZ, you will have the opportunity to work with cutting-edge technologies and collaborate with a diverse team of professionals.\n",
      "\n",
      "Job Description:\n",
      "We are seeking a talented and passionate Data Scientist to join our team in Dublin, Ireland. As a Data Scientist at XYZ, you will be responsible for analyzing complex datasets, developing predictive models, and providing actionable insights to drive business growth. You will work closely with cross-functional teams to identify opportunities, design experiments, and develop innovative solutions.\n",
      "\n",
      "Responsibilities:\n",
      "- Analyze large and complex datasets to identify patterns, trends, and insights.\n",
      "- Develop predictive models and algorithms to solve business problems.\n",
      "- Collaborate with cross-functional teams to define project objectives and deliverables.\n",
      "- Design and execute experiments to validate hypotheses and improve model performance.\n",
      "- Communicate findings and insights to stakeholders in a clear and concise manner.\n",
      "- Stay up-to-date with the latest advancements in data science and machine learning.\n",
      "\n",
      "Requirements:\n",
      "- Bachelor's degree in Computer Science, Statistics, Mathematics, or a related field.\n",
      "- Proven experience as a Data Scientist or similar role.\n",
      "- Strong knowledge of statistical analysis, machine learning, and data mining techniques.\n",
      "- Proficiency in programming languages such as Python, R, or Java.\n",
      "- Experience with data visualization tools such as Tableau or Power BI.\n",
      "- Excellent problem-solving and analytical skills.\n",
      "- Strong communication and presentation skills.\n",
      "- Ability to work effectively in a collaborative team environment.\n",
      "\n",
      "Culture Fit:\n",
      "At XYZ, we value diversity, collaboration, and innovation. We believe in fostering a supportive and inclusive work environment where everyone's ideas are heard and respected. As an Irish company, we embrace the warm and friendly culture of Ireland, and we encourage our employees to bring their unique perspectives and experiences to the table.\n",
      "\n",
      "Benefits:\n",
      "- Competitive salary and benefits package.\n",
      "- Flexible working hours and remote work options.\n",
      "- Opportunities for professional development and growth.\n",
      "- Fun and inclusive company culture with regular team-building activities.\n",
      "- Convenient location in the heart of Dublin with easy access to public transportation.\n",
      "\n",
      "How to Apply:\n",
      "If you are a talented Data Scientist who is passionate about leveraging data to drive business success, we would love to hear from you. Please submit your resume and a cover letter explaining why you are interested in joining XYZ and how your skills and experience align with the role.\n"
     ]
    }
   ],
   "source": [
    "print(completion.choices[0].message.content)"
   ]
  }
 ],
 "metadata": {
  "kernelspec": {
   "display_name": "Python 3 (ipykernel)",
   "language": "python",
   "name": "python3"
  },
  "language_info": {
   "codemirror_mode": {
    "name": "ipython",
    "version": 3
   },
   "file_extension": ".py",
   "mimetype": "text/x-python",
   "name": "python",
   "nbconvert_exporter": "python",
   "pygments_lexer": "ipython3",
   "version": "3.11.3"
  },
  "toc": {
   "base_numbering": 1,
   "nav_menu": {},
   "number_sections": true,
   "sideBar": true,
   "skip_h1_title": false,
   "title_cell": "Table of Contents",
   "title_sidebar": "Contents",
   "toc_cell": false,
   "toc_position": {},
   "toc_section_display": true,
   "toc_window_display": false
  },
  "varInspector": {
   "cols": {
    "lenName": 16,
    "lenType": 16,
    "lenVar": 40
   },
   "kernels_config": {
    "python": {
     "delete_cmd_postfix": "",
     "delete_cmd_prefix": "del ",
     "library": "var_list.py",
     "varRefreshCmd": "print(var_dic_list())"
    },
    "r": {
     "delete_cmd_postfix": ") ",
     "delete_cmd_prefix": "rm(",
     "library": "var_list.r",
     "varRefreshCmd": "cat(var_dic_list()) "
    }
   },
   "types_to_exclude": [
    "module",
    "function",
    "builtin_function_or_method",
    "instance",
    "_Feature"
   ],
   "window_display": false
  }
 },
 "nbformat": 4,
 "nbformat_minor": 5
}
