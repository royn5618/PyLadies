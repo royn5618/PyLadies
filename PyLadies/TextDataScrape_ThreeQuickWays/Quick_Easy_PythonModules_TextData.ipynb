{
  "nbformat": 4,
  "nbformat_minor": 0,
  "metadata": {
    "colab": {
      "provenance": [],
      "authorship_tag": "ABX9TyMq5KjigKxrdl+HCtpqWm+e",
      "include_colab_link": true
    },
    "kernelspec": {
      "name": "python3",
      "display_name": "Python 3"
    },
    "language_info": {
      "name": "python"
    }
  },
  "cells": [
    {
      "cell_type": "markdown",
      "metadata": {
        "id": "view-in-github",
        "colab_type": "text"
      },
      "source": [
        "<a href=\"https://colab.research.google.com/github/royn5618/Talks_Resources/blob/main/PyLadies/TextDataScrape_ThreeQuickWays/Quick_Easy_PythonModules_TextData.ipynb\" target=\"_parent\"><img src=\"https://colab.research.google.com/assets/colab-badge.svg\" alt=\"Open In Colab\"/></a>"
      ]
    },
    {
      "cell_type": "markdown",
      "source": [
        "# Wikipedia\n",
        "\n",
        "GitHub: https://github.com/goldsmith/Wikipedia\n",
        "\n",
        "Wikipedia is a Python library that makes it easy to access and parse data from Wikipedia."
      ],
      "metadata": {
        "id": "94rryRB9bNNB"
      }
    },
    {
      "cell_type": "code",
      "source": [
        "!pip install wikipedia"
      ],
      "metadata": {
        "colab": {
          "base_uri": "https://localhost:8080/"
        },
        "id": "UPvvjOlobm9u",
        "outputId": "f1db34e0-8405-4969-a8ac-4a44e06d18cd"
      },
      "execution_count": 1,
      "outputs": [
        {
          "output_type": "stream",
          "name": "stdout",
          "text": [
            "Looking in indexes: https://pypi.org/simple, https://us-python.pkg.dev/colab-wheels/public/simple/\n",
            "Collecting wikipedia\n",
            "  Downloading wikipedia-1.4.0.tar.gz (27 kB)\n",
            "  Preparing metadata (setup.py) ... \u001b[?25l\u001b[?25hdone\n",
            "Requirement already satisfied: beautifulsoup4 in /usr/local/lib/python3.8/dist-packages (from wikipedia) (4.6.3)\n",
            "Requirement already satisfied: requests<3.0.0,>=2.0.0 in /usr/local/lib/python3.8/dist-packages (from wikipedia) (2.25.1)\n",
            "Requirement already satisfied: certifi>=2017.4.17 in /usr/local/lib/python3.8/dist-packages (from requests<3.0.0,>=2.0.0->wikipedia) (2022.12.7)\n",
            "Requirement already satisfied: idna<3,>=2.5 in /usr/local/lib/python3.8/dist-packages (from requests<3.0.0,>=2.0.0->wikipedia) (2.10)\n",
            "Requirement already satisfied: chardet<5,>=3.0.2 in /usr/local/lib/python3.8/dist-packages (from requests<3.0.0,>=2.0.0->wikipedia) (4.0.0)\n",
            "Requirement already satisfied: urllib3<1.27,>=1.21.1 in /usr/local/lib/python3.8/dist-packages (from requests<3.0.0,>=2.0.0->wikipedia) (1.24.3)\n",
            "Building wheels for collected packages: wikipedia\n",
            "  Building wheel for wikipedia (setup.py) ... \u001b[?25l\u001b[?25hdone\n",
            "  Created wheel for wikipedia: filename=wikipedia-1.4.0-py3-none-any.whl size=11695 sha256=2bebe0f18c16d4522383a9aaed21275bb8698add99bb6ff3a250e161e600bb3f\n",
            "  Stored in directory: /root/.cache/pip/wheels/07/93/05/72c05349177dca2e0ba31a33ba4f7907606f7ddef303517c6a\n",
            "Successfully built wikipedia\n",
            "Installing collected packages: wikipedia\n",
            "Successfully installed wikipedia-1.4.0\n"
          ]
        }
      ]
    },
    {
      "cell_type": "code",
      "source": [
        "import wikipedia\n",
        "results_list = wikipedia.search(\"pyladies\") # Enter you search term\n",
        "results_list"
      ],
      "metadata": {
        "colab": {
          "base_uri": "https://localhost:8080/"
        },
        "id": "fAJWnp2tbM8K",
        "outputId": "ccadb239-b953-4faf-bfa8-2c0a33d93ce3"
      },
      "execution_count": 15,
      "outputs": [
        {
          "output_type": "execute_result",
          "data": {
            "text/plain": [
              "['PyLadies',\n",
              " 'Python Software Foundation',\n",
              " 'Python (programming language)',\n",
              " 'Python Conference',\n",
              " 'List of free and open-source software organizations',\n",
              " 'Timeline of women in computing',\n",
              " 'Dogpatch Labs']"
            ]
          },
          "metadata": {},
          "execution_count": 15
        }
      ]
    },
    {
      "cell_type": "code",
      "source": [
        "results_list = wikipedia.search(\"pyladies AND python\") # Enter you search term\n",
        "results_list"
      ],
      "metadata": {
        "colab": {
          "base_uri": "https://localhost:8080/"
        },
        "id": "zwm1_DVxcf6m",
        "outputId": "677a33cf-5fb9-44f0-d885-3001c8262901"
      },
      "execution_count": 16,
      "outputs": [
        {
          "output_type": "execute_result",
          "data": {
            "text/plain": [
              "['PyLadies',\n",
              " 'Python Software Foundation',\n",
              " 'Python Conference',\n",
              " 'Python (programming language)',\n",
              " 'List of free and open-source software organizations',\n",
              " 'Timeline of women in computing']"
            ]
          },
          "metadata": {},
          "execution_count": 16
        }
      ]
    },
    {
      "cell_type": "code",
      "source": [
        "results_list = wikipedia.search(\"pyladies OR python\")\n",
        "results_list"
      ],
      "metadata": {
        "colab": {
          "base_uri": "https://localhost:8080/"
        },
        "id": "qbvQlSHCcbIW",
        "outputId": "81d691b2-0f91-451a-efa3-6210202f932f"
      },
      "execution_count": 17,
      "outputs": [
        {
          "output_type": "execute_result",
          "data": {
            "text/plain": [
              "['PyLadies',\n",
              " 'Python Conference',\n",
              " 'Python Software Foundation',\n",
              " 'Python (programming language)',\n",
              " 'List of free and open-source software organizations',\n",
              " 'Monty Python',\n",
              " 'Monty Python and the Holy Grail',\n",
              " 'John Cleese',\n",
              " 'Eric Idle',\n",
              " 'Michael Palin']"
            ]
          },
          "metadata": {},
          "execution_count": 17
        }
      ]
    },
    {
      "cell_type": "code",
      "source": [
        "results_list = wikipedia.search(\"python\")\n",
        "results_list"
      ],
      "metadata": {
        "colab": {
          "base_uri": "https://localhost:8080/"
        },
        "id": "b-Zp_5Utdc8p",
        "outputId": "3a8c8437-ebea-49a8-9e9e-def6383831f2"
      },
      "execution_count": 18,
      "outputs": [
        {
          "output_type": "execute_result",
          "data": {
            "text/plain": [
              "['Python',\n",
              " 'Python (programming language)',\n",
              " 'Monty Python',\n",
              " 'Python (codename)',\n",
              " 'Reticulated python',\n",
              " 'Ball python',\n",
              " 'Burmese python',\n",
              " 'Python (missile)',\n",
              " 'Python (genus)',\n",
              " 'History of Python']"
            ]
          },
          "metadata": {},
          "execution_count": 18
        }
      ]
    },
    {
      "cell_type": "code",
      "source": [
        "results_list = wikipedia.search(\"python AND pyladies\")\n",
        "results_list"
      ],
      "metadata": {
        "colab": {
          "base_uri": "https://localhost:8080/"
        },
        "id": "yJgEgbFAdg7k",
        "outputId": "80bec149-775d-4b0f-d47f-e7f67715dfbd"
      },
      "execution_count": 21,
      "outputs": [
        {
          "output_type": "execute_result",
          "data": {
            "text/plain": [
              "['PyLadies',\n",
              " 'Python Conference',\n",
              " 'Python Software Foundation',\n",
              " 'Python (programming language)',\n",
              " 'List of free and open-source software organizations',\n",
              " 'Timeline of women in computing']"
            ]
          },
          "metadata": {},
          "execution_count": 21
        }
      ]
    },
    {
      "cell_type": "code",
      "source": [
        "wiki_page_obj = wikipedia.page('PyLadies')\n",
        "wiki_page_obj"
      ],
      "metadata": {
        "colab": {
          "base_uri": "https://localhost:8080/"
        },
        "id": "gLU-15xtuCb4",
        "outputId": "05667ce4-f340-45c1-f7cc-8cbc0f9b038f"
      },
      "execution_count": 23,
      "outputs": [
        {
          "output_type": "execute_result",
          "data": {
            "text/plain": [
              "<WikipediaPage 'PyLadies'>"
            ]
          },
          "metadata": {},
          "execution_count": 23
        }
      ]
    },
    {
      "cell_type": "code",
      "source": [
        "wiki_page_obj.content"
      ],
      "metadata": {
        "colab": {
          "base_uri": "https://localhost:8080/",
          "height": 139
        },
        "id": "tvBQfUUMuS7E",
        "outputId": "64e83c58-5682-48dc-abc2-d1303e93b950"
      },
      "execution_count": 24,
      "outputs": [
        {
          "output_type": "execute_result",
          "data": {
            "text/plain": [
              "'PyLadies is an international mentorship group which focuses on helping more women become active participants in the Python open-source community. It is part of the Python Software Foundation. It was started in Los Angeles in 2011. The mission of the group is to create a diverse Python community through outreach, education, conferences and social gatherings. PyLadies also provides funding for women to attend open source conferences. The aim of PyLadies is increasing the participation of women in computing. PyLadies became a multi-chapter organization with the founding of the Washington, D.C., chapter in August 2011. The group currently has more than 40 chapters around the world.\\n\\n\\n== History ==\\nThe organization was created in Los Angeles in April 2011 by seven women: Audrey Roy Greenfeld, Christine Cheung, Esther Nam, Jessica Venticinque (Stanton at the time), Katharine Jarmul, Sandy Strong, and Sophia Viklund. Around 2012, the organization filed for nonprofit status.As of November 2022, PyLadies has over 100 chapters.\\n\\n\\n== About ==\\nPyLadies has conducted outreach events for both beginners and experienced users. PyLadies has conducted hackathons, social nights and workshops for Python enthusiasts.\\n\\nEach chapter is free to run themselves as they wish as long as they are focused on the goal of empowering women and other marginalized genders in tech. Women make up the majority of the group, but membership is not limited to women and the group is open to helping people who identify as other gender identities as well.\\n\\n\\n== References ==\\n\\n\\n== External links ==\\nPyLadies Website'"
            ],
            "application/vnd.google.colaboratory.intrinsic+json": {
              "type": "string"
            }
          },
          "metadata": {},
          "execution_count": 24
        }
      ]
    },
    {
      "cell_type": "code",
      "source": [
        "wiki_page_obj.url"
      ],
      "metadata": {
        "colab": {
          "base_uri": "https://localhost:8080/",
          "height": 35
        },
        "id": "Dc5f3kpJuUgX",
        "outputId": "b43a31b8-4f3a-44e4-ed5c-0bb3109b08da"
      },
      "execution_count": 25,
      "outputs": [
        {
          "output_type": "execute_result",
          "data": {
            "text/plain": [
              "'https://en.wikipedia.org/wiki/PyLadies'"
            ],
            "application/vnd.google.colaboratory.intrinsic+json": {
              "type": "string"
            }
          },
          "metadata": {},
          "execution_count": 25
        }
      ]
    },
    {
      "cell_type": "code",
      "source": [
        "wiki_page_obj.links"
      ],
      "metadata": {
        "colab": {
          "base_uri": "https://localhost:8080/"
        },
        "id": "I4wW6uO3uW_3",
        "outputId": "b783efcc-62e5-4e71-b310-ec129dc52c36"
      },
      "execution_count": 26,
      "outputs": [
        {
          "output_type": "execute_result",
          "data": {
            "text/plain": [
              "['Gender identity',\n",
              " 'Los Angeles',\n",
              " 'Mentorship',\n",
              " 'Open-source community',\n",
              " 'Outreach',\n",
              " 'Python (programming language)',\n",
              " 'Python Software Foundation',\n",
              " 'Washington, D.C.']"
            ]
          },
          "metadata": {},
          "execution_count": 26
        }
      ]
    },
    {
      "cell_type": "code",
      "source": [
        "wiki_search_results = []"
      ],
      "metadata": {
        "id": "CPQiolVebwoL"
      },
      "execution_count": 27,
      "outputs": []
    },
    {
      "cell_type": "code",
      "execution_count": 28,
      "metadata": {
        "id": "yMomvQcCYARW"
      },
      "outputs": [],
      "source": [
        "for each_result in results_list:\n",
        "    wiki_page_result = {}\n",
        "    wiki_page_obj = wikipedia.page(each_result)\n",
        "    wiki_page_result['title'] = wiki_page_obj.title\n",
        "    wiki_page_result['content'] = wiki_page_obj.content\n",
        "    wiki_page_result['url'] = wiki_page_obj.url\n",
        "    wiki_page_result['links'] = wiki_page_obj.links\n",
        "    wiki_search_results.append(wiki_page_result)"
      ]
    },
    {
      "cell_type": "code",
      "source": [
        "import pandas as pd\n",
        "pd.DataFrame(wiki_search_results)"
      ],
      "metadata": {
        "colab": {
          "base_uri": "https://localhost:8080/",
          "height": 385
        },
        "id": "3JfIxVTJua4p",
        "outputId": "c81b900a-f744-42a6-ef52-fe5ea8cc4a0a"
      },
      "execution_count": 34,
      "outputs": [
        {
          "output_type": "execute_result",
          "data": {
            "text/plain": [
              "                                               title  \\\n",
              "0                                           PyLadies   \n",
              "1                                  Python Conference   \n",
              "2                         Python Software Foundation   \n",
              "3                      Python (programming language)   \n",
              "4  List of free and open-source software organiza...   \n",
              "5                     Timeline of women in computing   \n",
              "\n",
              "                                             content  \\\n",
              "0  PyLadies is an international mentorship group ...   \n",
              "1  The Python Conference (also called PyCon: 564 ...   \n",
              "2  The Python Software Foundation (PSF) is an Ame...   \n",
              "3  Python is a high-level, general-purpose progra...   \n",
              "4  The following are notable organizations devote...   \n",
              "5  This is a timeline of women in computing. It c...   \n",
              "\n",
              "                                                 url  \\\n",
              "0             https://en.wikipedia.org/wiki/PyLadies   \n",
              "1    https://en.wikipedia.org/wiki/Python_Conference   \n",
              "2  https://en.wikipedia.org/wiki/Python_Software_...   \n",
              "3  https://en.wikipedia.org/wiki/Python_(programm...   \n",
              "4  https://en.wikipedia.org/wiki/List_of_free_and...   \n",
              "5  https://en.wikipedia.org/wiki/Timeline_of_wome...   \n",
              "\n",
              "                                               links  \n",
              "0  [Gender identity, Los Angeles, Mentorship, Ope...  \n",
              "1  [Atlanta, COVID-19 pandemic, Chicago, Code of ...  \n",
              "2  [501(c), Asynchronous Server Gateway Interface...  \n",
              "3  [\"Hello, World!\" program, 15.ai, 3ds Max, ?:, ...  \n",
              "4  [.NET Foundation, .NET Framework, Academic Fre...  \n",
              "5  [A-0 System, ACM Software System Award, ACM Tr...  "
            ],
            "text/html": [
              "\n",
              "  <div id=\"df-2fd4ff38-67fa-4ad0-a411-0dabb267c4ee\">\n",
              "    <div class=\"colab-df-container\">\n",
              "      <div>\n",
              "<style scoped>\n",
              "    .dataframe tbody tr th:only-of-type {\n",
              "        vertical-align: middle;\n",
              "    }\n",
              "\n",
              "    .dataframe tbody tr th {\n",
              "        vertical-align: top;\n",
              "    }\n",
              "\n",
              "    .dataframe thead th {\n",
              "        text-align: right;\n",
              "    }\n",
              "</style>\n",
              "<table border=\"1\" class=\"dataframe\">\n",
              "  <thead>\n",
              "    <tr style=\"text-align: right;\">\n",
              "      <th></th>\n",
              "      <th>title</th>\n",
              "      <th>content</th>\n",
              "      <th>url</th>\n",
              "      <th>links</th>\n",
              "    </tr>\n",
              "  </thead>\n",
              "  <tbody>\n",
              "    <tr>\n",
              "      <th>0</th>\n",
              "      <td>PyLadies</td>\n",
              "      <td>PyLadies is an international mentorship group ...</td>\n",
              "      <td>https://en.wikipedia.org/wiki/PyLadies</td>\n",
              "      <td>[Gender identity, Los Angeles, Mentorship, Ope...</td>\n",
              "    </tr>\n",
              "    <tr>\n",
              "      <th>1</th>\n",
              "      <td>Python Conference</td>\n",
              "      <td>The Python Conference (also called PyCon: 564 ...</td>\n",
              "      <td>https://en.wikipedia.org/wiki/Python_Conference</td>\n",
              "      <td>[Atlanta, COVID-19 pandemic, Chicago, Code of ...</td>\n",
              "    </tr>\n",
              "    <tr>\n",
              "      <th>2</th>\n",
              "      <td>Python Software Foundation</td>\n",
              "      <td>The Python Software Foundation (PSF) is an Ame...</td>\n",
              "      <td>https://en.wikipedia.org/wiki/Python_Software_...</td>\n",
              "      <td>[501(c), Asynchronous Server Gateway Interface...</td>\n",
              "    </tr>\n",
              "    <tr>\n",
              "      <th>3</th>\n",
              "      <td>Python (programming language)</td>\n",
              "      <td>Python is a high-level, general-purpose progra...</td>\n",
              "      <td>https://en.wikipedia.org/wiki/Python_(programm...</td>\n",
              "      <td>[\"Hello, World!\" program, 15.ai, 3ds Max, ?:, ...</td>\n",
              "    </tr>\n",
              "    <tr>\n",
              "      <th>4</th>\n",
              "      <td>List of free and open-source software organiza...</td>\n",
              "      <td>The following are notable organizations devote...</td>\n",
              "      <td>https://en.wikipedia.org/wiki/List_of_free_and...</td>\n",
              "      <td>[.NET Foundation, .NET Framework, Academic Fre...</td>\n",
              "    </tr>\n",
              "    <tr>\n",
              "      <th>5</th>\n",
              "      <td>Timeline of women in computing</td>\n",
              "      <td>This is a timeline of women in computing. It c...</td>\n",
              "      <td>https://en.wikipedia.org/wiki/Timeline_of_wome...</td>\n",
              "      <td>[A-0 System, ACM Software System Award, ACM Tr...</td>\n",
              "    </tr>\n",
              "  </tbody>\n",
              "</table>\n",
              "</div>\n",
              "      <button class=\"colab-df-convert\" onclick=\"convertToInteractive('df-2fd4ff38-67fa-4ad0-a411-0dabb267c4ee')\"\n",
              "              title=\"Convert this dataframe to an interactive table.\"\n",
              "              style=\"display:none;\">\n",
              "        \n",
              "  <svg xmlns=\"http://www.w3.org/2000/svg\" height=\"24px\"viewBox=\"0 0 24 24\"\n",
              "       width=\"24px\">\n",
              "    <path d=\"M0 0h24v24H0V0z\" fill=\"none\"/>\n",
              "    <path d=\"M18.56 5.44l.94 2.06.94-2.06 2.06-.94-2.06-.94-.94-2.06-.94 2.06-2.06.94zm-11 1L8.5 8.5l.94-2.06 2.06-.94-2.06-.94L8.5 2.5l-.94 2.06-2.06.94zm10 10l.94 2.06.94-2.06 2.06-.94-2.06-.94-.94-2.06-.94 2.06-2.06.94z\"/><path d=\"M17.41 7.96l-1.37-1.37c-.4-.4-.92-.59-1.43-.59-.52 0-1.04.2-1.43.59L10.3 9.45l-7.72 7.72c-.78.78-.78 2.05 0 2.83L4 21.41c.39.39.9.59 1.41.59.51 0 1.02-.2 1.41-.59l7.78-7.78 2.81-2.81c.8-.78.8-2.07 0-2.86zM5.41 20L4 18.59l7.72-7.72 1.47 1.35L5.41 20z\"/>\n",
              "  </svg>\n",
              "      </button>\n",
              "      \n",
              "  <style>\n",
              "    .colab-df-container {\n",
              "      display:flex;\n",
              "      flex-wrap:wrap;\n",
              "      gap: 12px;\n",
              "    }\n",
              "\n",
              "    .colab-df-convert {\n",
              "      background-color: #E8F0FE;\n",
              "      border: none;\n",
              "      border-radius: 50%;\n",
              "      cursor: pointer;\n",
              "      display: none;\n",
              "      fill: #1967D2;\n",
              "      height: 32px;\n",
              "      padding: 0 0 0 0;\n",
              "      width: 32px;\n",
              "    }\n",
              "\n",
              "    .colab-df-convert:hover {\n",
              "      background-color: #E2EBFA;\n",
              "      box-shadow: 0px 1px 2px rgba(60, 64, 67, 0.3), 0px 1px 3px 1px rgba(60, 64, 67, 0.15);\n",
              "      fill: #174EA6;\n",
              "    }\n",
              "\n",
              "    [theme=dark] .colab-df-convert {\n",
              "      background-color: #3B4455;\n",
              "      fill: #D2E3FC;\n",
              "    }\n",
              "\n",
              "    [theme=dark] .colab-df-convert:hover {\n",
              "      background-color: #434B5C;\n",
              "      box-shadow: 0px 1px 3px 1px rgba(0, 0, 0, 0.15);\n",
              "      filter: drop-shadow(0px 1px 2px rgba(0, 0, 0, 0.3));\n",
              "      fill: #FFFFFF;\n",
              "    }\n",
              "  </style>\n",
              "\n",
              "      <script>\n",
              "        const buttonEl =\n",
              "          document.querySelector('#df-2fd4ff38-67fa-4ad0-a411-0dabb267c4ee button.colab-df-convert');\n",
              "        buttonEl.style.display =\n",
              "          google.colab.kernel.accessAllowed ? 'block' : 'none';\n",
              "\n",
              "        async function convertToInteractive(key) {\n",
              "          const element = document.querySelector('#df-2fd4ff38-67fa-4ad0-a411-0dabb267c4ee');\n",
              "          const dataTable =\n",
              "            await google.colab.kernel.invokeFunction('convertToInteractive',\n",
              "                                                     [key], {});\n",
              "          if (!dataTable) return;\n",
              "\n",
              "          const docLinkHtml = 'Like what you see? Visit the ' +\n",
              "            '<a target=\"_blank\" href=https://colab.research.google.com/notebooks/data_table.ipynb>data table notebook</a>'\n",
              "            + ' to learn more about interactive tables.';\n",
              "          element.innerHTML = '';\n",
              "          dataTable['output_type'] = 'display_data';\n",
              "          await google.colab.output.renderOutput(dataTable, element);\n",
              "          const docLink = document.createElement('div');\n",
              "          docLink.innerHTML = docLinkHtml;\n",
              "          element.appendChild(docLink);\n",
              "        }\n",
              "      </script>\n",
              "    </div>\n",
              "  </div>\n",
              "  "
            ]
          },
          "metadata": {},
          "execution_count": 34
        }
      ]
    },
    {
      "cell_type": "markdown",
      "source": [
        "# Python Wrapper for Twitter using SnScrape\n",
        "\n",
        "GitHub: https://github.com/MartinKBeck/TwitterScraper/tree/master/snscrape\n",
        "\n",
        "Tutorial from Author: https://betterprogramming.pub/how-to-scrape-tweets-with-snscrape-90124ed006af"
      ],
      "metadata": {
        "id": "Y0Oifldvu0Gt"
      }
    },
    {
      "cell_type": "code",
      "source": [
        "!pip install snscrape"
      ],
      "metadata": {
        "colab": {
          "base_uri": "https://localhost:8080/"
        },
        "id": "xGmQ4uMDuz0X",
        "outputId": "199bdb86-c12c-424b-9104-0f6cefd389ce"
      },
      "execution_count": 35,
      "outputs": [
        {
          "output_type": "stream",
          "name": "stdout",
          "text": [
            "Looking in indexes: https://pypi.org/simple, https://us-python.pkg.dev/colab-wheels/public/simple/\n",
            "Collecting snscrape\n",
            "  Downloading snscrape-0.5.0.20230113-py3-none-any.whl (69 kB)\n",
            "\u001b[?25l     \u001b[90m━━━━━━━━━━━━━━━━━━━━━━━━━━━━━━━━━━━━━━━━\u001b[0m \u001b[32m0.0/69.2 KB\u001b[0m \u001b[31m?\u001b[0m eta \u001b[36m-:--:--\u001b[0m\r\u001b[2K     \u001b[90m━━━━━━━━━━━━━━━━━━━━━━━━━━━━━━━━━━━━━━━━\u001b[0m \u001b[32m69.2/69.2 KB\u001b[0m \u001b[31m6.5 MB/s\u001b[0m eta \u001b[36m0:00:00\u001b[0m\n",
            "\u001b[?25hRequirement already satisfied: lxml in /usr/local/lib/python3.8/dist-packages (from snscrape) (4.9.2)\n",
            "Requirement already satisfied: beautifulsoup4 in /usr/local/lib/python3.8/dist-packages (from snscrape) (4.6.3)\n",
            "Requirement already satisfied: requests[socks] in /usr/local/lib/python3.8/dist-packages (from snscrape) (2.25.1)\n",
            "Requirement already satisfied: pytz in /usr/local/lib/python3.8/dist-packages (from snscrape) (2022.7.1)\n",
            "Requirement already satisfied: filelock in /usr/local/lib/python3.8/dist-packages (from snscrape) (3.9.0)\n",
            "Requirement already satisfied: idna<3,>=2.5 in /usr/local/lib/python3.8/dist-packages (from requests[socks]->snscrape) (2.10)\n",
            "Requirement already satisfied: certifi>=2017.4.17 in /usr/local/lib/python3.8/dist-packages (from requests[socks]->snscrape) (2022.12.7)\n",
            "Requirement already satisfied: urllib3<1.27,>=1.21.1 in /usr/local/lib/python3.8/dist-packages (from requests[socks]->snscrape) (1.24.3)\n",
            "Requirement already satisfied: chardet<5,>=3.0.2 in /usr/local/lib/python3.8/dist-packages (from requests[socks]->snscrape) (4.0.0)\n",
            "Requirement already satisfied: PySocks!=1.5.7,>=1.5.6 in /usr/local/lib/python3.8/dist-packages (from requests[socks]->snscrape) (1.7.1)\n",
            "Installing collected packages: snscrape\n",
            "Successfully installed snscrape-0.5.0.20230113\n"
          ]
        }
      ]
    },
    {
      "cell_type": "code",
      "source": [
        "import snscrape.modules.twitter as sntwitter"
      ],
      "metadata": {
        "id": "vH_mCYnGw56x"
      },
      "execution_count": 36,
      "outputs": []
    },
    {
      "cell_type": "code",
      "source": [
        "sntwitter.TwitterSearchScraper('from:PyLadiesDub').get_items()"
      ],
      "metadata": {
        "colab": {
          "base_uri": "https://localhost:8080/"
        },
        "id": "o_RXDS5jxFVB",
        "outputId": "b709757a-ebd9-4863-d2b7-2d245376d385"
      },
      "execution_count": 37,
      "outputs": [
        {
          "output_type": "execute_result",
          "data": {
            "text/plain": [
              "<generator object TwitterSearchScraper.get_items at 0x7f253c5ccac0>"
            ]
          },
          "metadata": {},
          "execution_count": 37
        }
      ]
    },
    {
      "cell_type": "code",
      "source": [
        "for tweet in sntwitter.TwitterSearchScraper('from:PyLadiesDub').get_items():\n",
        "    print(\"Tweet Date: \", tweet.date)\n",
        "    print(\"Tweet ID: \", tweet.id)\n",
        "    print(\"Tweet Content: \", tweet.content)\n",
        "    print(\"Twitter User: \", tweet.user.username)\n",
        "    break"
      ],
      "metadata": {
        "colab": {
          "base_uri": "https://localhost:8080/"
        },
        "id": "-pdTsrPWxvks",
        "outputId": "9dcd89fd-147a-4caf-a70d-41c956a1e562"
      },
      "execution_count": 44,
      "outputs": [
        {
          "output_type": "stream",
          "name": "stdout",
          "text": [
            "Tweet Date:  2023-02-21 10:15:00+00:00\n",
            "Tweet ID:  1627975167157600262\n",
            "Tweet Content:  📢 Our #PyLadies Dublin talks are on this evening evening:\n",
            "- Three Quick, Easy &amp; No-Scraper ways of Getting Text #Data using #Python by Nabanita Roy\n",
            "- I ❤️ @VisiData by @micktwomey \n",
            "\n",
            "It will be 🔴 #LiveStreamed, bring your cuppa, questions, and chats.\n",
            "https://t.co/XcGyOvY5Tb\n",
            "Twitter Handle:  PyLadiesDub\n"
          ]
        },
        {
          "output_type": "stream",
          "name": "stderr",
          "text": [
            "<ipython-input-44-83c1ec65953f>:4: FutureWarning: content is deprecated, use rawContent instead\n",
            "  print(\"Tweet Content: \", tweet.content)\n"
          ]
        }
      ]
    },
    {
      "cell_type": "code",
      "source": [
        "for tweet in sntwitter.TwitterSearchScraper('#PyLadies #Hamburg').get_items():\n",
        "    print(\"Tweet Date: \", tweet.date)\n",
        "    print(\"Tweet ID: \", tweet.id)\n",
        "    print(\"Tweet Content: \", tweet.content)\n",
        "    print(\"Twitter User: \", tweet.user.username)\n",
        "    break"
      ],
      "metadata": {
        "colab": {
          "base_uri": "https://localhost:8080/"
        },
        "id": "LbhOotM30BqD",
        "outputId": "bf845b41-b5c8-4885-ba74-327092747ff7"
      },
      "execution_count": 60,
      "outputs": [
        {
          "output_type": "stream",
          "name": "stdout",
          "text": [
            "Tweet Date:  2020-06-29 07:00:39+00:00\n",
            "Tweet ID:  1277497189095411712\n",
            "Tweet Content:  Were you always curious about NLP but  didn’t get a chance to get started? Join us for an intro to NLP workshop with @ACosseron and Eva Jaumann \n",
            "\n",
            "#pyladies #pyladiesHH @pyladies #nlp #hamburg \n",
            "Intro to NLP or what is the meaning of \"Hello world\" https://t.co/PHEH2Bu91R\n",
            "Twitter User:  PyLadiesHH\n"
          ]
        },
        {
          "output_type": "stream",
          "name": "stderr",
          "text": [
            "<ipython-input-60-01a31d58ab02>:4: FutureWarning: content is deprecated, use rawContent instead\n",
            "  print(\"Tweet Content: \", tweet.content)\n"
          ]
        }
      ]
    },
    {
      "cell_type": "markdown",
      "source": [
        "Attributes Available:\n",
        "\n",
        "1. URL\n",
        "2. Date\n",
        "3. content\n",
        "4. id\n",
        "5. user\n",
        "  - username\n",
        "  - display name\n",
        "  - id\n",
        "  - description\n",
        "  - verified\n",
        "  - followersCount\n",
        "  - friendsCount\n",
        "  - location\n",
        "6. replyCount\n",
        "7. retweetCount\n",
        "8. likeCount\n",
        "9. media\n",
        "10. mentionedUsers\n",
        "11. Lang\n",
        "\n",
        "  Find a wider list on the tutorial by the author"
      ],
      "metadata": {
        "id": "Z0GWMKJuGJp7"
      }
    },
    {
      "cell_type": "code",
      "source": [
        "# Usage of AND / OR for combinations of search terms\n",
        "\n",
        "for tweet in sntwitter.TwitterSearchScraper('#PyLadies OR #Hamburg').get_items():\n",
        "    print(\"Tweet Date: \", tweet.date)\n",
        "    print(\"Tweet ID: \", tweet.id)\n",
        "    print(\"Tweet Content: \", tweet.content)\n",
        "    print(\"Twitter User: \", tweet.user.username)\n",
        "    break"
      ],
      "metadata": {
        "colab": {
          "base_uri": "https://localhost:8080/"
        },
        "id": "ZjhthJgG0DbB",
        "outputId": "8976e4b4-edf2-4bff-95be-2b980d79a46f"
      },
      "execution_count": 58,
      "outputs": [
        {
          "output_type": "stream",
          "name": "stdout",
          "text": [
            "Tweet Date:  2023-02-21 11:51:44+00:00\n",
            "Tweet ID:  1627999507882426375\n",
            "Tweet Content:  I can get used to these morning walks along the canal. Goodbye Hamburg. Next stop Luxembourg. \n",
            ".\n",
            ".\n",
            ".\n",
            ".\n",
            "#hamburg #germany #tourlife #travelingEurope #worldtraveler https://t.co/F7czjWNDoZ\n",
            "Twitter User:  JoshuaJJohnson\n"
          ]
        },
        {
          "output_type": "stream",
          "name": "stderr",
          "text": [
            "<ipython-input-58-8554d31d6a16>:4: FutureWarning: content is deprecated, use rawContent instead\n",
            "  print(\"Tweet Content: \", tweet.content)\n"
          ]
        }
      ]
    },
    {
      "cell_type": "code",
      "source": [
        "''' Sample Code'''\n",
        "\n",
        "# Creating list to append tweet data to\n",
        "tweets_list1 = []\n",
        "maxTweets = 50\n",
        "# Using TwitterSearchScraper to scrape data \n",
        "for i,tweet in enumerate(sntwitter.TwitterSearchScraper('from:PyLadiesDub since:2023-01-01 until:2023-02-01').get_items()):\n",
        "    if i > maxTweets:\n",
        "        break\n",
        "    tweets_list1.append([tweet.date, tweet.id, tweet.rawContent, tweet.user.username])\n",
        "\n",
        "df = pd.DataFrame(tweets_list1, columns = ['date', 'id', 'content', 'username'])\n",
        "df.index = pd.to_datetime(df['date'])\n",
        "df.drop(columns='date', inplace=True)\n",
        "df.head()"
      ],
      "metadata": {
        "colab": {
          "base_uri": "https://localhost:8080/",
          "height": 237
        },
        "id": "nIBY5u9txOEW",
        "outputId": "d55b8bbd-64b6-4d74-9b6e-de112b27c119"
      },
      "execution_count": 54,
      "outputs": [
        {
          "output_type": "execute_result",
          "data": {
            "text/plain": [
              "                                            id  \\\n",
              "date                                             \n",
              "2023-01-17 19:08:34+00:00  1615425865801732097   \n",
              "2023-01-17 19:02:40+00:00  1615424384172445696   \n",
              "2023-01-17 18:40:20+00:00  1615418762156511245   \n",
              "2023-01-17 16:31:11+00:00  1615386260650196999   \n",
              "2023-01-17 09:30:30+00:00  1615280392633712644   \n",
              "\n",
              "                                                                     content  \\\n",
              "date                                                                           \n",
              "2023-01-17 19:08:34+00:00  Uffa's starting her talk now on \"Update Nested...   \n",
              "2023-01-17 19:02:40+00:00  After \"Mitigating Bias in #AI\" by Arthur Lubam...   \n",
              "2023-01-17 18:40:20+00:00  Our first talk just kicked off with Arthur Lub...   \n",
              "2023-01-17 16:31:11+00:00  Counting down to our 1st #PyLadies Dublin meet...   \n",
              "2023-01-17 09:30:30+00:00  🔔 #PyLadies Dublin virtual event is on this ev...   \n",
              "\n",
              "                              username  \n",
              "date                                    \n",
              "2023-01-17 19:08:34+00:00  PyLadiesDub  \n",
              "2023-01-17 19:02:40+00:00  PyLadiesDub  \n",
              "2023-01-17 18:40:20+00:00  PyLadiesDub  \n",
              "2023-01-17 16:31:11+00:00  PyLadiesDub  \n",
              "2023-01-17 09:30:30+00:00  PyLadiesDub  "
            ],
            "text/html": [
              "\n",
              "  <div id=\"df-29e705b8-004f-44b7-842c-874cc04df1fd\">\n",
              "    <div class=\"colab-df-container\">\n",
              "      <div>\n",
              "<style scoped>\n",
              "    .dataframe tbody tr th:only-of-type {\n",
              "        vertical-align: middle;\n",
              "    }\n",
              "\n",
              "    .dataframe tbody tr th {\n",
              "        vertical-align: top;\n",
              "    }\n",
              "\n",
              "    .dataframe thead th {\n",
              "        text-align: right;\n",
              "    }\n",
              "</style>\n",
              "<table border=\"1\" class=\"dataframe\">\n",
              "  <thead>\n",
              "    <tr style=\"text-align: right;\">\n",
              "      <th></th>\n",
              "      <th>id</th>\n",
              "      <th>content</th>\n",
              "      <th>username</th>\n",
              "    </tr>\n",
              "    <tr>\n",
              "      <th>date</th>\n",
              "      <th></th>\n",
              "      <th></th>\n",
              "      <th></th>\n",
              "    </tr>\n",
              "  </thead>\n",
              "  <tbody>\n",
              "    <tr>\n",
              "      <th>2023-01-17 19:08:34+00:00</th>\n",
              "      <td>1615425865801732097</td>\n",
              "      <td>Uffa's starting her talk now on \"Update Nested...</td>\n",
              "      <td>PyLadiesDub</td>\n",
              "    </tr>\n",
              "    <tr>\n",
              "      <th>2023-01-17 19:02:40+00:00</th>\n",
              "      <td>1615424384172445696</td>\n",
              "      <td>After \"Mitigating Bias in #AI\" by Arthur Lubam...</td>\n",
              "      <td>PyLadiesDub</td>\n",
              "    </tr>\n",
              "    <tr>\n",
              "      <th>2023-01-17 18:40:20+00:00</th>\n",
              "      <td>1615418762156511245</td>\n",
              "      <td>Our first talk just kicked off with Arthur Lub...</td>\n",
              "      <td>PyLadiesDub</td>\n",
              "    </tr>\n",
              "    <tr>\n",
              "      <th>2023-01-17 16:31:11+00:00</th>\n",
              "      <td>1615386260650196999</td>\n",
              "      <td>Counting down to our 1st #PyLadies Dublin meet...</td>\n",
              "      <td>PyLadiesDub</td>\n",
              "    </tr>\n",
              "    <tr>\n",
              "      <th>2023-01-17 09:30:30+00:00</th>\n",
              "      <td>1615280392633712644</td>\n",
              "      <td>🔔 #PyLadies Dublin virtual event is on this ev...</td>\n",
              "      <td>PyLadiesDub</td>\n",
              "    </tr>\n",
              "  </tbody>\n",
              "</table>\n",
              "</div>\n",
              "      <button class=\"colab-df-convert\" onclick=\"convertToInteractive('df-29e705b8-004f-44b7-842c-874cc04df1fd')\"\n",
              "              title=\"Convert this dataframe to an interactive table.\"\n",
              "              style=\"display:none;\">\n",
              "        \n",
              "  <svg xmlns=\"http://www.w3.org/2000/svg\" height=\"24px\"viewBox=\"0 0 24 24\"\n",
              "       width=\"24px\">\n",
              "    <path d=\"M0 0h24v24H0V0z\" fill=\"none\"/>\n",
              "    <path d=\"M18.56 5.44l.94 2.06.94-2.06 2.06-.94-2.06-.94-.94-2.06-.94 2.06-2.06.94zm-11 1L8.5 8.5l.94-2.06 2.06-.94-2.06-.94L8.5 2.5l-.94 2.06-2.06.94zm10 10l.94 2.06.94-2.06 2.06-.94-2.06-.94-.94-2.06-.94 2.06-2.06.94z\"/><path d=\"M17.41 7.96l-1.37-1.37c-.4-.4-.92-.59-1.43-.59-.52 0-1.04.2-1.43.59L10.3 9.45l-7.72 7.72c-.78.78-.78 2.05 0 2.83L4 21.41c.39.39.9.59 1.41.59.51 0 1.02-.2 1.41-.59l7.78-7.78 2.81-2.81c.8-.78.8-2.07 0-2.86zM5.41 20L4 18.59l7.72-7.72 1.47 1.35L5.41 20z\"/>\n",
              "  </svg>\n",
              "      </button>\n",
              "      \n",
              "  <style>\n",
              "    .colab-df-container {\n",
              "      display:flex;\n",
              "      flex-wrap:wrap;\n",
              "      gap: 12px;\n",
              "    }\n",
              "\n",
              "    .colab-df-convert {\n",
              "      background-color: #E8F0FE;\n",
              "      border: none;\n",
              "      border-radius: 50%;\n",
              "      cursor: pointer;\n",
              "      display: none;\n",
              "      fill: #1967D2;\n",
              "      height: 32px;\n",
              "      padding: 0 0 0 0;\n",
              "      width: 32px;\n",
              "    }\n",
              "\n",
              "    .colab-df-convert:hover {\n",
              "      background-color: #E2EBFA;\n",
              "      box-shadow: 0px 1px 2px rgba(60, 64, 67, 0.3), 0px 1px 3px 1px rgba(60, 64, 67, 0.15);\n",
              "      fill: #174EA6;\n",
              "    }\n",
              "\n",
              "    [theme=dark] .colab-df-convert {\n",
              "      background-color: #3B4455;\n",
              "      fill: #D2E3FC;\n",
              "    }\n",
              "\n",
              "    [theme=dark] .colab-df-convert:hover {\n",
              "      background-color: #434B5C;\n",
              "      box-shadow: 0px 1px 3px 1px rgba(0, 0, 0, 0.15);\n",
              "      filter: drop-shadow(0px 1px 2px rgba(0, 0, 0, 0.3));\n",
              "      fill: #FFFFFF;\n",
              "    }\n",
              "  </style>\n",
              "\n",
              "      <script>\n",
              "        const buttonEl =\n",
              "          document.querySelector('#df-29e705b8-004f-44b7-842c-874cc04df1fd button.colab-df-convert');\n",
              "        buttonEl.style.display =\n",
              "          google.colab.kernel.accessAllowed ? 'block' : 'none';\n",
              "\n",
              "        async function convertToInteractive(key) {\n",
              "          const element = document.querySelector('#df-29e705b8-004f-44b7-842c-874cc04df1fd');\n",
              "          const dataTable =\n",
              "            await google.colab.kernel.invokeFunction('convertToInteractive',\n",
              "                                                     [key], {});\n",
              "          if (!dataTable) return;\n",
              "\n",
              "          const docLinkHtml = 'Like what you see? Visit the ' +\n",
              "            '<a target=\"_blank\" href=https://colab.research.google.com/notebooks/data_table.ipynb>data table notebook</a>'\n",
              "            + ' to learn more about interactive tables.';\n",
              "          element.innerHTML = '';\n",
              "          dataTable['output_type'] = 'display_data';\n",
              "          await google.colab.output.renderOutput(dataTable, element);\n",
              "          const docLink = document.createElement('div');\n",
              "          docLink.innerHTML = docLinkHtml;\n",
              "          element.appendChild(docLink);\n",
              "        }\n",
              "      </script>\n",
              "    </div>\n",
              "  </div>\n",
              "  "
            ]
          },
          "metadata": {},
          "execution_count": 54
        }
      ]
    },
    {
      "cell_type": "code",
      "source": [
        "df.info()"
      ],
      "metadata": {
        "colab": {
          "base_uri": "https://localhost:8080/"
        },
        "id": "Jha7iGHqzfQ5",
        "outputId": "ec4316cd-3cac-455b-c0d4-1ef864078254"
      },
      "execution_count": 55,
      "outputs": [
        {
          "output_type": "stream",
          "name": "stdout",
          "text": [
            "<class 'pandas.core.frame.DataFrame'>\n",
            "DatetimeIndex: 7 entries, 2023-01-17 19:08:34+00:00 to 2023-01-04 16:24:56+00:00\n",
            "Data columns (total 3 columns):\n",
            " #   Column    Non-Null Count  Dtype \n",
            "---  ------    --------------  ----- \n",
            " 0   id        7 non-null      int64 \n",
            " 1   content   7 non-null      object\n",
            " 2   username  7 non-null      object\n",
            "dtypes: int64(1), object(2)\n",
            "memory usage: 224.0+ bytes\n"
          ]
        }
      ]
    },
    {
      "cell_type": "markdown",
      "source": [
        "# Pattern for Twitter and OOB Applied-NLP \n",
        "\n",
        "GitHub: https://github.com/clips/pattern"
      ],
      "metadata": {
        "id": "_pe1mNxdzmft"
      }
    },
    {
      "cell_type": "code",
      "source": [
        "!pip install pattern"
      ],
      "metadata": {
        "colab": {
          "base_uri": "https://localhost:8080/"
        },
        "id": "kncCNZORy6Fz",
        "outputId": "4cb62b33-2639-47d3-e5dd-66f92694056c"
      },
      "execution_count": 61,
      "outputs": [
        {
          "output_type": "stream",
          "name": "stdout",
          "text": [
            "Looking in indexes: https://pypi.org/simple, https://us-python.pkg.dev/colab-wheels/public/simple/\n",
            "Collecting pattern\n",
            "  Downloading Pattern-3.6.0.tar.gz (22.2 MB)\n",
            "\u001b[2K     \u001b[90m━━━━━━━━━━━━━━━━━━━━━━━━━━━━━━━━━━━━━━━━\u001b[0m \u001b[32m22.2/22.2 MB\u001b[0m \u001b[31m55.1 MB/s\u001b[0m eta \u001b[36m0:00:00\u001b[0m\n",
            "\u001b[?25h  Preparing metadata (setup.py) ... \u001b[?25l\u001b[?25hdone\n",
            "Requirement already satisfied: future in /usr/local/lib/python3.8/dist-packages (from pattern) (0.16.0)\n",
            "Collecting backports.csv\n",
            "  Downloading backports.csv-1.0.7-py2.py3-none-any.whl (12 kB)\n",
            "Collecting mysqlclient\n",
            "  Downloading mysqlclient-2.1.1.tar.gz (88 kB)\n",
            "\u001b[2K     \u001b[90m━━━━━━━━━━━━━━━━━━━━━━━━━━━━━━━━━━━━━━━━\u001b[0m \u001b[32m88.1/88.1 KB\u001b[0m \u001b[31m11.1 MB/s\u001b[0m eta \u001b[36m0:00:00\u001b[0m\n",
            "\u001b[?25h  Preparing metadata (setup.py) ... \u001b[?25l\u001b[?25hdone\n",
            "Requirement already satisfied: beautifulsoup4 in /usr/local/lib/python3.8/dist-packages (from pattern) (4.6.3)\n",
            "Requirement already satisfied: lxml in /usr/local/lib/python3.8/dist-packages (from pattern) (4.9.2)\n",
            "Collecting feedparser\n",
            "  Downloading feedparser-6.0.10-py3-none-any.whl (81 kB)\n",
            "\u001b[2K     \u001b[90m━━━━━━━━━━━━━━━━━━━━━━━━━━━━━━━━━━━━━━━━\u001b[0m \u001b[32m81.1/81.1 KB\u001b[0m \u001b[31m9.4 MB/s\u001b[0m eta \u001b[36m0:00:00\u001b[0m\n",
            "\u001b[?25hCollecting pdfminer.six\n",
            "  Downloading pdfminer.six-20221105-py3-none-any.whl (5.6 MB)\n",
            "\u001b[2K     \u001b[90m━━━━━━━━━━━━━━━━━━━━━━━━━━━━━━━━━━━━━━━━\u001b[0m \u001b[32m5.6/5.6 MB\u001b[0m \u001b[31m94.4 MB/s\u001b[0m eta \u001b[36m0:00:00\u001b[0m\n",
            "\u001b[?25hRequirement already satisfied: numpy in /usr/local/lib/python3.8/dist-packages (from pattern) (1.21.6)\n",
            "Requirement already satisfied: scipy in /usr/local/lib/python3.8/dist-packages (from pattern) (1.7.3)\n",
            "Requirement already satisfied: nltk in /usr/local/lib/python3.8/dist-packages (from pattern) (3.7)\n",
            "Collecting python-docx\n",
            "  Downloading python-docx-0.8.11.tar.gz (5.6 MB)\n",
            "\u001b[2K     \u001b[90m━━━━━━━━━━━━━━━━━━━━━━━━━━━━━━━━━━━━━━━━\u001b[0m \u001b[32m5.6/5.6 MB\u001b[0m \u001b[31m85.5 MB/s\u001b[0m eta \u001b[36m0:00:00\u001b[0m\n",
            "\u001b[?25h  Preparing metadata (setup.py) ... \u001b[?25l\u001b[?25hdone\n",
            "Collecting cherrypy\n",
            "  Downloading CherryPy-18.8.0-py2.py3-none-any.whl (348 kB)\n",
            "\u001b[2K     \u001b[90m━━━━━━━━━━━━━━━━━━━━━━━━━━━━━━━━━━━━━━\u001b[0m \u001b[32m348.4/348.4 KB\u001b[0m \u001b[31m25.7 MB/s\u001b[0m eta \u001b[36m0:00:00\u001b[0m\n",
            "\u001b[?25hRequirement already satisfied: requests in /usr/local/lib/python3.8/dist-packages (from pattern) (2.25.1)\n",
            "Requirement already satisfied: more-itertools in /usr/local/lib/python3.8/dist-packages (from cherrypy->pattern) (9.0.0)\n",
            "Collecting jaraco.collections\n",
            "  Downloading jaraco.collections-3.8.0-py3-none-any.whl (10 kB)\n",
            "Collecting cheroot>=8.2.1\n",
            "  Downloading cheroot-9.0.0-py2.py3-none-any.whl (100 kB)\n",
            "\u001b[2K     \u001b[90m━━━━━━━━━━━━━━━━━━━━━━━━━━━━━━━━━━━━━━━\u001b[0m \u001b[32m100.6/100.6 KB\u001b[0m \u001b[31m9.9 MB/s\u001b[0m eta \u001b[36m0:00:00\u001b[0m\n",
            "\u001b[?25hCollecting portend>=2.1.1\n",
            "  Downloading portend-3.1.0-py3-none-any.whl (5.3 kB)\n",
            "Collecting zc.lockfile\n",
            "  Downloading zc.lockfile-2.0-py2.py3-none-any.whl (9.7 kB)\n",
            "Collecting sgmllib3k\n",
            "  Downloading sgmllib3k-1.0.0.tar.gz (5.8 kB)\n",
            "  Preparing metadata (setup.py) ... \u001b[?25l\u001b[?25hdone\n",
            "Requirement already satisfied: tqdm in /usr/local/lib/python3.8/dist-packages (from nltk->pattern) (4.64.1)\n",
            "Requirement already satisfied: click in /usr/local/lib/python3.8/dist-packages (from nltk->pattern) (7.1.2)\n",
            "Requirement already satisfied: joblib in /usr/local/lib/python3.8/dist-packages (from nltk->pattern) (1.2.0)\n",
            "Requirement already satisfied: regex>=2021.8.3 in /usr/local/lib/python3.8/dist-packages (from nltk->pattern) (2022.6.2)\n",
            "Requirement already satisfied: charset-normalizer>=2.0.0 in /usr/local/lib/python3.8/dist-packages (from pdfminer.six->pattern) (3.0.1)\n",
            "Collecting cryptography>=36.0.0\n",
            "  Downloading cryptography-39.0.1-cp36-abi3-manylinux_2_28_x86_64.whl (4.2 MB)\n",
            "\u001b[2K     \u001b[90m━━━━━━━━━━━━━━━━━━━━━━━━━━━━━━━━━━━━━━━━\u001b[0m \u001b[32m4.2/4.2 MB\u001b[0m \u001b[31m108.0 MB/s\u001b[0m eta \u001b[36m0:00:00\u001b[0m\n",
            "\u001b[?25hRequirement already satisfied: idna<3,>=2.5 in /usr/local/lib/python3.8/dist-packages (from requests->pattern) (2.10)\n",
            "Requirement already satisfied: urllib3<1.27,>=1.21.1 in /usr/local/lib/python3.8/dist-packages (from requests->pattern) (1.24.3)\n",
            "Requirement already satisfied: chardet<5,>=3.0.2 in /usr/local/lib/python3.8/dist-packages (from requests->pattern) (4.0.0)\n",
            "Requirement already satisfied: certifi>=2017.4.17 in /usr/local/lib/python3.8/dist-packages (from requests->pattern) (2022.12.7)\n",
            "Collecting jaraco.functools\n",
            "  Downloading jaraco.functools-3.6.0-py3-none-any.whl (7.9 kB)\n",
            "Requirement already satisfied: six>=1.11.0 in /usr/local/lib/python3.8/dist-packages (from cheroot>=8.2.1->cherrypy->pattern) (1.15.0)\n",
            "Requirement already satisfied: cffi>=1.12 in /usr/local/lib/python3.8/dist-packages (from cryptography>=36.0.0->pdfminer.six->pattern) (1.15.1)\n",
            "Collecting tempora>=1.8\n",
            "  Downloading tempora-5.2.1-py3-none-any.whl (13 kB)\n",
            "Collecting jaraco.classes\n",
            "  Downloading jaraco.classes-3.2.3-py3-none-any.whl (6.0 kB)\n",
            "Collecting jaraco.text\n",
            "  Downloading jaraco.text-3.11.1-py3-none-any.whl (11 kB)\n",
            "Requirement already satisfied: setuptools in /usr/local/lib/python3.8/dist-packages (from zc.lockfile->cherrypy->pattern) (57.4.0)\n",
            "Requirement already satisfied: pycparser in /usr/local/lib/python3.8/dist-packages (from cffi>=1.12->cryptography>=36.0.0->pdfminer.six->pattern) (2.21)\n",
            "Requirement already satisfied: pytz in /usr/local/lib/python3.8/dist-packages (from tempora>=1.8->portend>=2.1.1->cherrypy->pattern) (2022.7.1)\n",
            "Collecting autocommand\n",
            "  Downloading autocommand-2.2.2-py3-none-any.whl (19 kB)\n",
            "Collecting jaraco.context>=4.1\n",
            "  Downloading jaraco.context-4.3.0-py3-none-any.whl (5.3 kB)\n",
            "Requirement already satisfied: inflect in /usr/local/lib/python3.8/dist-packages (from jaraco.text->jaraco.collections->cherrypy->pattern) (2.1.0)\n",
            "Requirement already satisfied: importlib-resources in /usr/local/lib/python3.8/dist-packages (from jaraco.text->jaraco.collections->cherrypy->pattern) (5.10.2)\n",
            "Requirement already satisfied: zipp>=3.1.0 in /usr/local/lib/python3.8/dist-packages (from importlib-resources->jaraco.text->jaraco.collections->cherrypy->pattern) (3.13.0)\n",
            "Building wheels for collected packages: pattern, mysqlclient, python-docx, sgmllib3k\n",
            "  Building wheel for pattern (setup.py) ... \u001b[?25l\u001b[?25hdone\n",
            "  Created wheel for pattern: filename=Pattern-3.6-py3-none-any.whl size=22332722 sha256=d3e8bfdcc31cdc356f788d0f51bf76791b0d09447532012ab2df77c3c8735b47\n",
            "  Stored in directory: /root/.cache/pip/wheels/ec/ce/8f/bccc2d04f3a25a5a1dd19165b2855ad3203975f25edd5838d6\n",
            "  Building wheel for mysqlclient (setup.py) ... \u001b[?25l\u001b[?25hdone\n",
            "  Created wheel for mysqlclient: filename=mysqlclient-2.1.1-cp38-cp38-linux_x86_64.whl size=109200 sha256=944dbfb0f4b3027bf6e7ed023bb7bca0116f80f27bc60cc5a22b308d12c2f28d\n",
            "  Stored in directory: /root/.cache/pip/wheels/5b/e1/84/a6185eaec318899f59a32d393af7729a0719cd93695d71f9a1\n",
            "  Building wheel for python-docx (setup.py) ... \u001b[?25l\u001b[?25hdone\n",
            "  Created wheel for python-docx: filename=python_docx-0.8.11-py3-none-any.whl size=184505 sha256=03448316b3f2405b001dc889a26dfe57bf5f9768d4824337528b0c4b45eb1a68\n",
            "  Stored in directory: /root/.cache/pip/wheels/32/b8/b2/c4c2b95765e615fe139b0b17b5ea7c0e1b6519b0a9ec8fb34d\n",
            "  Building wheel for sgmllib3k (setup.py) ... \u001b[?25l\u001b[?25hdone\n",
            "  Created wheel for sgmllib3k: filename=sgmllib3k-1.0.0-py3-none-any.whl size=6066 sha256=af443645f151e3aadc1920fda1582e5f4a65c8ba9a99ac4d5716c81cb73e0467\n",
            "  Stored in directory: /root/.cache/pip/wheels/83/63/2f/117884c3b19d46b64d3d61690333aa80c88dc14050e269c546\n",
            "Successfully built pattern mysqlclient python-docx sgmllib3k\n",
            "Installing collected packages: sgmllib3k, backports.csv, zc.lockfile, python-docx, mysqlclient, jaraco.functools, jaraco.context, jaraco.classes, feedparser, autocommand, tempora, jaraco.text, cryptography, cheroot, portend, pdfminer.six, jaraco.collections, cherrypy, pattern\n",
            "Successfully installed autocommand-2.2.2 backports.csv-1.0.7 cheroot-9.0.0 cherrypy-18.8.0 cryptography-39.0.1 feedparser-6.0.10 jaraco.classes-3.2.3 jaraco.collections-3.8.0 jaraco.context-4.3.0 jaraco.functools-3.6.0 jaraco.text-3.11.1 mysqlclient-2.1.1 pattern-3.6 pdfminer.six-20221105 portend-3.1.0 python-docx-0.8.11 sgmllib3k-1.0.0 tempora-5.2.1 zc.lockfile-2.0\n"
          ]
        }
      ]
    },
    {
      "cell_type": "code",
      "source": [
        "from pattern.web import Twitter"
      ],
      "metadata": {
        "id": "t3z7P6Eh6tpj"
      },
      "execution_count": 62,
      "outputs": []
    },
    {
      "cell_type": "code",
      "source": [
        "twitter = Twitter()"
      ],
      "metadata": {
        "id": "D4T6HlSg6zuw"
      },
      "execution_count": 63,
      "outputs": []
    },
    {
      "cell_type": "code",
      "source": [
        "twitter.search('#pyladies', start=1, count=3)"
      ],
      "metadata": {
        "colab": {
          "base_uri": "https://localhost:8080/"
        },
        "id": "FH4e3ZK463i7",
        "outputId": "dc8cf2a5-1e6c-4be9-ecb0-4eca1ce72e3b"
      },
      "execution_count": 66,
      "outputs": [
        {
          "output_type": "execute_result",
          "data": {
            "text/plain": [
              "[Result({'url': 'https://twitter.com/PyLadiesDub/status/1627975167157600262', 'id': '1627975167157600262', 'text': '📢 Our #PyLadies Dublin talks are on this evening evening:\\n- Three Quick, Easy &amp; No-Scraper ways of Getting Text #Data using #Python by Nabanita Roy\\n- I ❤️ @VisiData by @micktwomey \\n\\nIt will be 🔴 #LiveStreamed, bring your cuppa, questions, and chats.\\nhttps://t.co/XcGyOvY5Tb', 'language': 'en', 'author': 'PyLadiesDub', 'date': 'Tue Feb 21 10:15:00 +0000 2023', 'profile': 'http://pbs.twimg.com/profile_images/1509101369722122243/JeY-6p22_normal.jpg'}),\n",
              " Result({'url': 'https://twitter.com/WTMBelfast/status/1627679651865788420', 'id': '1627679651865788420', 'text': 'RT @PyLadiesDub: 🎤 Our #PyLadies Dublin talks tomorrow evening:\\n- Three Quick, Easy &amp; No-Scraper ways of Getting Text #Data using #Python by Nabanita Roy\\n- I ❤️ @VisiData by @micktwomey \\n\\nIt will be 🔴 #LiveStreamed, bring your cuppa, questions, and chats.\\nhttps://t.co/XcGyOvY5Tb', 'language': 'en', 'author': 'WTMBelfast', 'date': 'Mon Feb 20 14:40:44 +0000 2023', 'shares': 1, 'profile': 'http://pbs.twimg.com/profile_images/1360628452492206081/b4Kk9qjj_normal.jpg'}),\n",
              " Result({'url': 'https://twitter.com/PyLadiesDub/status/1627644236102356993', 'id': '1627644236102356993', 'text': '🎤 Our #PyLadies Dublin talks tomorrow evening:\\n- Three Quick, Easy &amp; No-Scraper ways of Getting Text #Data using #Python by Nabanita Roy\\n- I ❤️ @VisiData by @micktwomey \\n\\nIt will be 🔴 #LiveStreamed, bring your cuppa, questions, and chats.\\nhttps://t.co/XcGyOvY5Tb', 'language': 'en', 'author': 'PyLadiesDub', 'date': 'Mon Feb 20 12:20:00 +0000 2023', 'shares': 1, 'profile': 'http://pbs.twimg.com/profile_images/1509101369722122243/JeY-6p22_normal.jpg'})]"
            ]
          },
          "metadata": {},
          "execution_count": 66
        }
      ]
    },
    {
      "cell_type": "markdown",
      "source": [
        "Attributes Available:\n",
        "1. URL\n",
        "2. ID - Twitter has unique ids for each so you can link back to SnScraper Tweet ID as well\n",
        "3. Text - Also called content in SnScaper\n",
        "4. Language\n",
        "5. Author\n",
        "6. Date\n",
        "7. Profile\n"
      ],
      "metadata": {
        "id": "2ZAJc_9T7ECp"
      }
    },
    {
      "cell_type": "code",
      "source": [
        "import nltk\n",
        "nltk.download('omw-1.4')\n",
        "\n",
        "from pattern.en import tag\n",
        "from pattern.vector import KNN, count"
      ],
      "metadata": {
        "colab": {
          "base_uri": "https://localhost:8080/"
        },
        "id": "5vx5KUEJuvE6",
        "outputId": "8450eeb9-d895-41e2-f336-eade191b38b1"
      },
      "execution_count": 70,
      "outputs": [
        {
          "output_type": "stream",
          "name": "stderr",
          "text": [
            "[nltk_data] Downloading package omw-1.4 to /root/nltk_data...\n"
          ]
        }
      ]
    },
    {
      "cell_type": "code",
      "source": [
        "knn = KNN()\n",
        "for tweet in twitter.search('#pyladies', start=1, count=20):\n",
        "  s = tweet.text.lower()\n",
        "  # print(s)\n",
        "  # print(\"---\")\n",
        "  p = 'dublin' in s and 'YES' or 'NO'\n",
        "  v = tag(s)\n",
        "  # for word,pos in v:\n",
        "  #   print(\"Word:\", word)\n",
        "  #   print(\"POS:\", pos)\n",
        "  #   # break\n",
        "  # print(\"---\")\n",
        "  v = [word for word, pos in v if pos == 'IN' or pos == 'JJ']\n",
        "  # print(v)\n",
        "  v = count(v)\n",
        "  print(\"---\")\n",
        "  print(v)\n",
        "  if v:\n",
        "    knn.train(v, type=p)"
      ],
      "metadata": {
        "colab": {
          "base_uri": "https://localhost:8080/"
        },
        "id": "IZpHN-P674lU",
        "outputId": "cb0ee3ef-4c43-4eb9-a757-277af81b1c33"
      },
      "execution_count": 119,
      "outputs": [
        {
          "output_type": "stream",
          "name": "stdout",
          "text": [
            "---\n",
            "{'dublin': 1, 'quick': 1, 'no-scraper': 1, 'nabanita': 1, '🔴': 1}\n",
            "---\n",
            "{'dublin': 1, 'quick': 1, 'no-scraper': 1, 'nabanita': 1, '🔴': 1}\n",
            "---\n",
            "{'dublin': 1, 'quick': 1, 'no-scraper': 1, 'nabanita': 1, '🔴': 1}\n",
            "---\n",
            "{'screenshot': 1, 'curious': 1, 'active': 1, 'fantastic': 1}\n",
            "---\n",
            "{'screenshot': 1, 'curious': 1, 'active': 1, 'fantastic': 1}\n",
            "---\n",
            "{'excited': 1, '🤓': 1}\n",
            "---\n",
            "{'@uliana_munich': 1, 'awesome': 1, 'munich': 1}\n",
            "---\n",
            "{'quick': 1, 'no-scraper': 1, 'nabanita': 1}\n",
            "---\n",
            "{'excited': 1, '🤓': 1}\n",
            "---\n",
            "{'excited': 1, '🤓': 1}\n",
            "---\n",
            "{'excited': 1, '🤓': 1}\n",
            "---\n",
            "{'quick': 1, 'no-scraper': 1, 'nabanita': 1}\n",
            "---\n",
            "{'quick': 1, 'no-scraper': 1, 'nabanita': 1}\n",
            "---\n",
            "{'https://t.co/jpsbw5i7oe': 1}\n",
            "---\n",
            "{'https://t.co/jpsbw5i7oe': 1}\n",
            "---\n",
            "{'https://t.co/jpsbw5i7oe': 1}\n",
            "---\n",
            "{'https://t.co/jpsbw5i7oe': 1}\n",
            "---\n",
            "{'https://t.co/jpsbw5i7oe': 1}\n",
            "---\n",
            "{'https://t.co/jpsbw5i7oe': 1}\n",
            "---\n",
            "{'happy': 1, 'quick': 1, 'no-scraper': 1, 'nabanita': 1}\n"
          ]
        }
      ]
    },
    {
      "cell_type": "code",
      "source": [
        "print(knn.classify('sweet little burger'))\n",
        "print(knn.classify('I am at pyladies dublin'))"
      ],
      "metadata": {
        "colab": {
          "base_uri": "https://localhost:8080/"
        },
        "id": "HL5NGy5NDjd4",
        "outputId": "284c8d39-e2d3-4db3-d437-15c265eeeeb8"
      },
      "execution_count": 121,
      "outputs": [
        {
          "output_type": "stream",
          "name": "stdout",
          "text": [
            "NO\n",
            "YES\n"
          ]
        }
      ]
    },
    {
      "cell_type": "code",
      "source": [
        "print(knn.classify('It is a lovely day in dublin'))"
      ],
      "metadata": {
        "colab": {
          "base_uri": "https://localhost:8080/"
        },
        "id": "NdSYOBtZD9sU",
        "outputId": "cddb52f7-cc1b-4a3e-f211-01c93be42876"
      },
      "execution_count": 122,
      "outputs": [
        {
          "output_type": "stream",
          "name": "stdout",
          "text": [
            "YES\n"
          ]
        }
      ]
    },
    {
      "cell_type": "code",
      "source": [
        "print(knn.classify('It is a lovely day in Munich'))"
      ],
      "metadata": {
        "colab": {
          "base_uri": "https://localhost:8080/"
        },
        "id": "DBwyh6WWD8lx",
        "outputId": "77f80734-b79d-4487-ae5e-85cc88def1cc"
      },
      "execution_count": 123,
      "outputs": [
        {
          "output_type": "stream",
          "name": "stdout",
          "text": [
            "NO\n"
          ]
        }
      ]
    },
    {
      "cell_type": "code",
      "source": [
        "print(knn.classify('It is a great day in Munich #dublin #munich #chicago'))"
      ],
      "metadata": {
        "colab": {
          "base_uri": "https://localhost:8080/"
        },
        "id": "IAe91ni17zPN",
        "outputId": "73c5c661-05a5-49ec-ffdf-0a6d19fc9874"
      },
      "execution_count": 125,
      "outputs": [
        {
          "output_type": "stream",
          "name": "stdout",
          "text": [
            "YES\n"
          ]
        }
      ]
    },
    {
      "cell_type": "code",
      "source": [],
      "metadata": {
        "id": "2Q_qBIRbubrf"
      },
      "execution_count": null,
      "outputs": []
    }
  ]
}