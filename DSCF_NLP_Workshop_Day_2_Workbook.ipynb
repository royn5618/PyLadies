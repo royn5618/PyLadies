{
  "cells": [
    {
      "cell_type": "markdown",
      "metadata": {
        "id": "view-in-github",
        "colab_type": "text"
      },
      "source": [
        "<a href=\"https://colab.research.google.com/github/royn5618/Talks_Resources/blob/main/DSCF_NLP_Workshop_Day_2_Workbook.ipynb\" target=\"_parent\"><img src=\"https://colab.research.google.com/assets/colab-badge.svg\" alt=\"Open In Colab\"/></a>"
      ]
    },
    {
      "cell_type": "markdown",
      "id": "bab94bea-a5c0-402c-9853-153649e04e43",
      "metadata": {
        "id": "bab94bea-a5c0-402c-9853-153649e04e43"
      },
      "source": [
        "# Imports"
      ]
    },
    {
      "cell_type": "code",
      "execution_count": null,
      "id": "402cced1-3236-4d4e-b3c2-5e4dc7fd8bf9",
      "metadata": {
        "colab": {
          "base_uri": "https://localhost:8080/"
        },
        "id": "402cced1-3236-4d4e-b3c2-5e4dc7fd8bf9",
        "outputId": "640cf511-4bd6-4fed-c9d1-93ed12339fb3"
      },
      "outputs": [
        {
          "output_type": "stream",
          "name": "stderr",
          "text": [
            "[nltk_data] Downloading package stopwords to /root/nltk_data...\n",
            "[nltk_data]   Unzipping corpora/stopwords.zip.\n",
            "[nltk_data] Downloading package punkt to /root/nltk_data...\n",
            "[nltk_data]   Unzipping tokenizers/punkt.zip.\n",
            "[nltk_data] Downloading package wordnet to /root/nltk_data...\n",
            "[nltk_data] Downloading package averaged_perceptron_tagger to\n",
            "[nltk_data]     /root/nltk_data...\n",
            "[nltk_data]   Unzipping taggers/averaged_perceptron_tagger.zip.\n"
          ]
        },
        {
          "output_type": "execute_result",
          "data": {
            "text/plain": [
              "True"
            ]
          },
          "metadata": {},
          "execution_count": 1
        }
      ],
      "source": [
        "import re\n",
        "\n",
        "import pandas as pd\n",
        "import numpy as np\n",
        "\n",
        "import matplotlib.pyplot as plt\n",
        "from matplotlib import rcParams\n",
        "plt.rcParams['figure.figsize'] = [10,10]\n",
        "import seaborn as sns\n",
        "sns.set_theme(style=\"darkgrid\")\n",
        "\n",
        "import nltk\n",
        "from nltk.tokenize import word_tokenize\n",
        "from nltk.stem.wordnet import WordNetLemmatizer\n",
        "from nltk.corpus import wordnet\n",
        "from nltk.corpus import stopwords\n",
        "nltk.download('stopwords')\n",
        "stopwords = nltk.corpus.stopwords.words('english')\n",
        "nltk.download('punkt')\n",
        "nltk.download('wordnet')\n",
        "nltk.download('averaged_perceptron_tagger')"
      ]
    },
    {
      "cell_type": "markdown",
      "id": "9ec5f6bd-8f31-4747-a9db-25a90745d076",
      "metadata": {
        "id": "9ec5f6bd-8f31-4747-a9db-25a90745d076"
      },
      "source": [
        "# Load Data"
      ]
    },
    {
      "cell_type": "code",
      "execution_count": null,
      "id": "bcd4e4f2-c952-4c23-891b-9ce93561c5fa",
      "metadata": {
        "id": "bcd4e4f2-c952-4c23-891b-9ce93561c5fa"
      },
      "outputs": [],
      "source": [
        "train_df_ = pd.read_csv('train_5k.csv')\n",
        "test_df = pd.read_csv('test.csv')"
      ]
    },
    {
      "cell_type": "code",
      "execution_count": null,
      "id": "9f89a165-83fc-4b9b-b4b5-3cf256150a04",
      "metadata": {
        "id": "9f89a165-83fc-4b9b-b4b5-3cf256150a04",
        "outputId": "977683b8-3231-4910-8c42-7cb065e76dfe",
        "colab": {
          "base_uri": "https://localhost:8080/"
        }
      },
      "outputs": [
        {
          "output_type": "execute_result",
          "data": {
            "text/plain": [
              "(5000, 6)"
            ]
          },
          "metadata": {},
          "execution_count": 5
        }
      ],
      "source": [
        "train_df_.shape"
      ]
    },
    {
      "cell_type": "code",
      "execution_count": null,
      "id": "3eff2448-2f16-4e5c-84cd-9d216fd8b60a",
      "metadata": {
        "id": "3eff2448-2f16-4e5c-84cd-9d216fd8b60a",
        "outputId": "197a6410-6cdc-4abe-b6b0-fdd1f84cfc45",
        "colab": {
          "base_uri": "https://localhost:8080/"
        }
      },
      "outputs": [
        {
          "output_type": "execute_result",
          "data": {
            "text/plain": [
              "(100, 6)"
            ]
          },
          "metadata": {},
          "execution_count": 6
        }
      ],
      "source": [
        "train_df = train_df_[:100].copy()\n",
        "train_df.shape"
      ]
    },
    {
      "cell_type": "code",
      "execution_count": null,
      "id": "915a1fb1-dec8-4282-ba95-6aa0813e26dc",
      "metadata": {
        "id": "915a1fb1-dec8-4282-ba95-6aa0813e26dc",
        "colab": {
          "base_uri": "https://localhost:8080/",
          "height": 206
        },
        "outputId": "04f4902d-5aaa-4a34-c335-4bbce36afc06"
      },
      "outputs": [
        {
          "output_type": "execute_result",
          "data": {
            "text/plain": [
              "   Unnamed: 0  id                                              title  \\\n",
              "0           0   0  House Dem Aide: We Didn’t Even See Comey’s Let...   \n",
              "1           1   1  FLYNN: Hillary Clinton, Big Woman on Campus - ...   \n",
              "2           2   2                  Why the Truth Might Get You Fired   \n",
              "3           3   3  15 Civilians Killed In Single US Airstrike Hav...   \n",
              "4           4   4  Iranian woman jailed for fictional unpublished...   \n",
              "\n",
              "               author                                               text  \\\n",
              "0       Darrell Lucus  House Dem Aide: We Didn’t Even See Comey’s Let...   \n",
              "1     Daniel J. Flynn  Ever get the feeling your life circles the rou...   \n",
              "2  Consortiumnews.com  Why the Truth Might Get You Fired October 29, ...   \n",
              "3     Jessica Purkiss  Videos 15 Civilians Killed In Single US Airstr...   \n",
              "4      Howard Portnoy  Print \\nAn Iranian woman has been sentenced to...   \n",
              "\n",
              "   label  \n",
              "0      1  \n",
              "1      0  \n",
              "2      1  \n",
              "3      1  \n",
              "4      1  "
            ],
            "text/html": [
              "\n",
              "\n",
              "  <div id=\"df-f4c3856f-16a5-47ff-ab62-daad490269de\">\n",
              "    <div class=\"colab-df-container\">\n",
              "      <div>\n",
              "<style scoped>\n",
              "    .dataframe tbody tr th:only-of-type {\n",
              "        vertical-align: middle;\n",
              "    }\n",
              "\n",
              "    .dataframe tbody tr th {\n",
              "        vertical-align: top;\n",
              "    }\n",
              "\n",
              "    .dataframe thead th {\n",
              "        text-align: right;\n",
              "    }\n",
              "</style>\n",
              "<table border=\"1\" class=\"dataframe\">\n",
              "  <thead>\n",
              "    <tr style=\"text-align: right;\">\n",
              "      <th></th>\n",
              "      <th>Unnamed: 0</th>\n",
              "      <th>id</th>\n",
              "      <th>title</th>\n",
              "      <th>author</th>\n",
              "      <th>text</th>\n",
              "      <th>label</th>\n",
              "    </tr>\n",
              "  </thead>\n",
              "  <tbody>\n",
              "    <tr>\n",
              "      <th>0</th>\n",
              "      <td>0</td>\n",
              "      <td>0</td>\n",
              "      <td>House Dem Aide: We Didn’t Even See Comey’s Let...</td>\n",
              "      <td>Darrell Lucus</td>\n",
              "      <td>House Dem Aide: We Didn’t Even See Comey’s Let...</td>\n",
              "      <td>1</td>\n",
              "    </tr>\n",
              "    <tr>\n",
              "      <th>1</th>\n",
              "      <td>1</td>\n",
              "      <td>1</td>\n",
              "      <td>FLYNN: Hillary Clinton, Big Woman on Campus - ...</td>\n",
              "      <td>Daniel J. Flynn</td>\n",
              "      <td>Ever get the feeling your life circles the rou...</td>\n",
              "      <td>0</td>\n",
              "    </tr>\n",
              "    <tr>\n",
              "      <th>2</th>\n",
              "      <td>2</td>\n",
              "      <td>2</td>\n",
              "      <td>Why the Truth Might Get You Fired</td>\n",
              "      <td>Consortiumnews.com</td>\n",
              "      <td>Why the Truth Might Get You Fired October 29, ...</td>\n",
              "      <td>1</td>\n",
              "    </tr>\n",
              "    <tr>\n",
              "      <th>3</th>\n",
              "      <td>3</td>\n",
              "      <td>3</td>\n",
              "      <td>15 Civilians Killed In Single US Airstrike Hav...</td>\n",
              "      <td>Jessica Purkiss</td>\n",
              "      <td>Videos 15 Civilians Killed In Single US Airstr...</td>\n",
              "      <td>1</td>\n",
              "    </tr>\n",
              "    <tr>\n",
              "      <th>4</th>\n",
              "      <td>4</td>\n",
              "      <td>4</td>\n",
              "      <td>Iranian woman jailed for fictional unpublished...</td>\n",
              "      <td>Howard Portnoy</td>\n",
              "      <td>Print \\nAn Iranian woman has been sentenced to...</td>\n",
              "      <td>1</td>\n",
              "    </tr>\n",
              "  </tbody>\n",
              "</table>\n",
              "</div>\n",
              "      <button class=\"colab-df-convert\" onclick=\"convertToInteractive('df-f4c3856f-16a5-47ff-ab62-daad490269de')\"\n",
              "              title=\"Convert this dataframe to an interactive table.\"\n",
              "              style=\"display:none;\">\n",
              "\n",
              "  <svg xmlns=\"http://www.w3.org/2000/svg\" height=\"24px\"viewBox=\"0 0 24 24\"\n",
              "       width=\"24px\">\n",
              "    <path d=\"M0 0h24v24H0V0z\" fill=\"none\"/>\n",
              "    <path d=\"M18.56 5.44l.94 2.06.94-2.06 2.06-.94-2.06-.94-.94-2.06-.94 2.06-2.06.94zm-11 1L8.5 8.5l.94-2.06 2.06-.94-2.06-.94L8.5 2.5l-.94 2.06-2.06.94zm10 10l.94 2.06.94-2.06 2.06-.94-2.06-.94-.94-2.06-.94 2.06-2.06.94z\"/><path d=\"M17.41 7.96l-1.37-1.37c-.4-.4-.92-.59-1.43-.59-.52 0-1.04.2-1.43.59L10.3 9.45l-7.72 7.72c-.78.78-.78 2.05 0 2.83L4 21.41c.39.39.9.59 1.41.59.51 0 1.02-.2 1.41-.59l7.78-7.78 2.81-2.81c.8-.78.8-2.07 0-2.86zM5.41 20L4 18.59l7.72-7.72 1.47 1.35L5.41 20z\"/>\n",
              "  </svg>\n",
              "      </button>\n",
              "\n",
              "\n",
              "\n",
              "    <div id=\"df-e52bf07f-d190-4eea-85e0-c87fa6952ec5\">\n",
              "      <button class=\"colab-df-quickchart\" onclick=\"quickchart('df-e52bf07f-d190-4eea-85e0-c87fa6952ec5')\"\n",
              "              title=\"Suggest charts.\"\n",
              "              style=\"display:none;\">\n",
              "\n",
              "<svg xmlns=\"http://www.w3.org/2000/svg\" height=\"24px\"viewBox=\"0 0 24 24\"\n",
              "     width=\"24px\">\n",
              "    <g>\n",
              "        <path d=\"M19 3H5c-1.1 0-2 .9-2 2v14c0 1.1.9 2 2 2h14c1.1 0 2-.9 2-2V5c0-1.1-.9-2-2-2zM9 17H7v-7h2v7zm4 0h-2V7h2v10zm4 0h-2v-4h2v4z\"/>\n",
              "    </g>\n",
              "</svg>\n",
              "      </button>\n",
              "    </div>\n",
              "\n",
              "<style>\n",
              "  .colab-df-quickchart {\n",
              "    background-color: #E8F0FE;\n",
              "    border: none;\n",
              "    border-radius: 50%;\n",
              "    cursor: pointer;\n",
              "    display: none;\n",
              "    fill: #1967D2;\n",
              "    height: 32px;\n",
              "    padding: 0 0 0 0;\n",
              "    width: 32px;\n",
              "  }\n",
              "\n",
              "  .colab-df-quickchart:hover {\n",
              "    background-color: #E2EBFA;\n",
              "    box-shadow: 0px 1px 2px rgba(60, 64, 67, 0.3), 0px 1px 3px 1px rgba(60, 64, 67, 0.15);\n",
              "    fill: #174EA6;\n",
              "  }\n",
              "\n",
              "  [theme=dark] .colab-df-quickchart {\n",
              "    background-color: #3B4455;\n",
              "    fill: #D2E3FC;\n",
              "  }\n",
              "\n",
              "  [theme=dark] .colab-df-quickchart:hover {\n",
              "    background-color: #434B5C;\n",
              "    box-shadow: 0px 1px 3px 1px rgba(0, 0, 0, 0.15);\n",
              "    filter: drop-shadow(0px 1px 2px rgba(0, 0, 0, 0.3));\n",
              "    fill: #FFFFFF;\n",
              "  }\n",
              "</style>\n",
              "\n",
              "    <script>\n",
              "      async function quickchart(key) {\n",
              "        const containerElement = document.querySelector('#' + key);\n",
              "        const charts = await google.colab.kernel.invokeFunction(\n",
              "            'suggestCharts', [key], {});\n",
              "      }\n",
              "    </script>\n",
              "\n",
              "      <script>\n",
              "\n",
              "function displayQuickchartButton(domScope) {\n",
              "  let quickchartButtonEl =\n",
              "    domScope.querySelector('#df-e52bf07f-d190-4eea-85e0-c87fa6952ec5 button.colab-df-quickchart');\n",
              "  quickchartButtonEl.style.display =\n",
              "    google.colab.kernel.accessAllowed ? 'block' : 'none';\n",
              "}\n",
              "\n",
              "        displayQuickchartButton(document);\n",
              "      </script>\n",
              "      <style>\n",
              "    .colab-df-container {\n",
              "      display:flex;\n",
              "      flex-wrap:wrap;\n",
              "      gap: 12px;\n",
              "    }\n",
              "\n",
              "    .colab-df-convert {\n",
              "      background-color: #E8F0FE;\n",
              "      border: none;\n",
              "      border-radius: 50%;\n",
              "      cursor: pointer;\n",
              "      display: none;\n",
              "      fill: #1967D2;\n",
              "      height: 32px;\n",
              "      padding: 0 0 0 0;\n",
              "      width: 32px;\n",
              "    }\n",
              "\n",
              "    .colab-df-convert:hover {\n",
              "      background-color: #E2EBFA;\n",
              "      box-shadow: 0px 1px 2px rgba(60, 64, 67, 0.3), 0px 1px 3px 1px rgba(60, 64, 67, 0.15);\n",
              "      fill: #174EA6;\n",
              "    }\n",
              "\n",
              "    [theme=dark] .colab-df-convert {\n",
              "      background-color: #3B4455;\n",
              "      fill: #D2E3FC;\n",
              "    }\n",
              "\n",
              "    [theme=dark] .colab-df-convert:hover {\n",
              "      background-color: #434B5C;\n",
              "      box-shadow: 0px 1px 3px 1px rgba(0, 0, 0, 0.15);\n",
              "      filter: drop-shadow(0px 1px 2px rgba(0, 0, 0, 0.3));\n",
              "      fill: #FFFFFF;\n",
              "    }\n",
              "  </style>\n",
              "\n",
              "      <script>\n",
              "        const buttonEl =\n",
              "          document.querySelector('#df-f4c3856f-16a5-47ff-ab62-daad490269de button.colab-df-convert');\n",
              "        buttonEl.style.display =\n",
              "          google.colab.kernel.accessAllowed ? 'block' : 'none';\n",
              "\n",
              "        async function convertToInteractive(key) {\n",
              "          const element = document.querySelector('#df-f4c3856f-16a5-47ff-ab62-daad490269de');\n",
              "          const dataTable =\n",
              "            await google.colab.kernel.invokeFunction('convertToInteractive',\n",
              "                                                     [key], {});\n",
              "          if (!dataTable) return;\n",
              "\n",
              "          const docLinkHtml = 'Like what you see? Visit the ' +\n",
              "            '<a target=\"_blank\" href=https://colab.research.google.com/notebooks/data_table.ipynb>data table notebook</a>'\n",
              "            + ' to learn more about interactive tables.';\n",
              "          element.innerHTML = '';\n",
              "          dataTable['output_type'] = 'display_data';\n",
              "          await google.colab.output.renderOutput(dataTable, element);\n",
              "          const docLink = document.createElement('div');\n",
              "          docLink.innerHTML = docLinkHtml;\n",
              "          element.appendChild(docLink);\n",
              "        }\n",
              "      </script>\n",
              "    </div>\n",
              "  </div>\n"
            ]
          },
          "metadata": {},
          "execution_count": 7
        }
      ],
      "source": [
        "# Check the first few rows\n",
        "# .head()\n",
        "\n",
        "train_df.head()"
      ]
    },
    {
      "cell_type": "code",
      "execution_count": null,
      "id": "5c765a9d-a21e-4c47-9423-a74be930d736",
      "metadata": {
        "id": "5c765a9d-a21e-4c47-9423-a74be930d736",
        "outputId": "6894cd15-70c0-4fd3-91b5-aa6f7b3af750",
        "colab": {
          "base_uri": "https://localhost:8080/"
        }
      },
      "outputs": [
        {
          "output_type": "execute_result",
          "data": {
            "text/plain": [
              "0    55\n",
              "1    45\n",
              "Name: label, dtype: int64"
            ]
          },
          "metadata": {},
          "execution_count": 8
        }
      ],
      "source": [
        "# Check the 'label' distribution\n",
        "\n",
        "train_df['label'].value_counts()"
      ]
    },
    {
      "cell_type": "code",
      "execution_count": null,
      "id": "76112ec8-2087-43a9-816c-c82c68559de9",
      "metadata": {
        "id": "76112ec8-2087-43a9-816c-c82c68559de9",
        "outputId": "4d66470e-ea6b-42b8-b10e-deadcd29949d",
        "colab": {
          "base_uri": "https://localhost:8080/"
        }
      },
      "outputs": [
        {
          "output_type": "execute_result",
          "data": {
            "text/plain": [
              "(5200, 4)"
            ]
          },
          "metadata": {},
          "execution_count": 9
        }
      ],
      "source": [
        "test_df.shape"
      ]
    },
    {
      "cell_type": "code",
      "execution_count": null,
      "id": "6c3fd6dd-c942-486d-bb04-7f06554247df",
      "metadata": {
        "id": "6c3fd6dd-c942-486d-bb04-7f06554247df",
        "colab": {
          "base_uri": "https://localhost:8080/",
          "height": 206
        },
        "outputId": "07703d65-82cb-43b4-e87f-10a83e738c1c"
      },
      "outputs": [
        {
          "output_type": "execute_result",
          "data": {
            "text/plain": [
              "    Unnamed: 0  id                                              title  \\\n",
              "66          66  66  Jury finds all Oregon standoff defendants not ...   \n",
              "80          80  80  Louisiana, Simone Biles, U.S. Presidential Rac...   \n",
              "17          17  17  Anonymous Donor Pays $2.5 Million To Release E...   \n",
              "56          56  56  Ep. 544 FADE to BLACK Jimmy Church w/ Laura Ei...   \n",
              "69          69  69  Bernie Sanders Says What The Media Won’t: Trum...   \n",
              "\n",
              "                                   author  \\\n",
              "66                                  Admin   \n",
              "80  Andrea Kannapell and Sandra Stevenson   \n",
              "17                               Starkman   \n",
              "56                               Madeline   \n",
              "69                           Jason Easley   \n",
              "\n",
              "                                                 text  label  \n",
              "66  Oregon Live – by Maxine Bernstein \\nA federal ...      1  \n",
              "80  (Want to get this briefing by email? Here’s th...      0  \n",
              "17  A Caddo Nation tribal leader has just been fre...      1  \n",
              "56  Click Here To Learn More About Alexandra's Per...      1  \n",
              "69  — Bernie Sanders (@BernieSanders) October 27, ...      1  "
            ],
            "text/html": [
              "\n",
              "\n",
              "  <div id=\"df-9f4e5b74-a075-467d-8cd0-136a0061f5fe\">\n",
              "    <div class=\"colab-df-container\">\n",
              "      <div>\n",
              "<style scoped>\n",
              "    .dataframe tbody tr th:only-of-type {\n",
              "        vertical-align: middle;\n",
              "    }\n",
              "\n",
              "    .dataframe tbody tr th {\n",
              "        vertical-align: top;\n",
              "    }\n",
              "\n",
              "    .dataframe thead th {\n",
              "        text-align: right;\n",
              "    }\n",
              "</style>\n",
              "<table border=\"1\" class=\"dataframe\">\n",
              "  <thead>\n",
              "    <tr style=\"text-align: right;\">\n",
              "      <th></th>\n",
              "      <th>Unnamed: 0</th>\n",
              "      <th>id</th>\n",
              "      <th>title</th>\n",
              "      <th>author</th>\n",
              "      <th>text</th>\n",
              "      <th>label</th>\n",
              "    </tr>\n",
              "  </thead>\n",
              "  <tbody>\n",
              "    <tr>\n",
              "      <th>66</th>\n",
              "      <td>66</td>\n",
              "      <td>66</td>\n",
              "      <td>Jury finds all Oregon standoff defendants not ...</td>\n",
              "      <td>Admin</td>\n",
              "      <td>Oregon Live – by Maxine Bernstein \\nA federal ...</td>\n",
              "      <td>1</td>\n",
              "    </tr>\n",
              "    <tr>\n",
              "      <th>80</th>\n",
              "      <td>80</td>\n",
              "      <td>80</td>\n",
              "      <td>Louisiana, Simone Biles, U.S. Presidential Rac...</td>\n",
              "      <td>Andrea Kannapell and Sandra Stevenson</td>\n",
              "      <td>(Want to get this briefing by email? Here’s th...</td>\n",
              "      <td>0</td>\n",
              "    </tr>\n",
              "    <tr>\n",
              "      <th>17</th>\n",
              "      <td>17</td>\n",
              "      <td>17</td>\n",
              "      <td>Anonymous Donor Pays $2.5 Million To Release E...</td>\n",
              "      <td>Starkman</td>\n",
              "      <td>A Caddo Nation tribal leader has just been fre...</td>\n",
              "      <td>1</td>\n",
              "    </tr>\n",
              "    <tr>\n",
              "      <th>56</th>\n",
              "      <td>56</td>\n",
              "      <td>56</td>\n",
              "      <td>Ep. 544 FADE to BLACK Jimmy Church w/ Laura Ei...</td>\n",
              "      <td>Madeline</td>\n",
              "      <td>Click Here To Learn More About Alexandra's Per...</td>\n",
              "      <td>1</td>\n",
              "    </tr>\n",
              "    <tr>\n",
              "      <th>69</th>\n",
              "      <td>69</td>\n",
              "      <td>69</td>\n",
              "      <td>Bernie Sanders Says What The Media Won’t: Trum...</td>\n",
              "      <td>Jason Easley</td>\n",
              "      <td>— Bernie Sanders (@BernieSanders) October 27, ...</td>\n",
              "      <td>1</td>\n",
              "    </tr>\n",
              "  </tbody>\n",
              "</table>\n",
              "</div>\n",
              "      <button class=\"colab-df-convert\" onclick=\"convertToInteractive('df-9f4e5b74-a075-467d-8cd0-136a0061f5fe')\"\n",
              "              title=\"Convert this dataframe to an interactive table.\"\n",
              "              style=\"display:none;\">\n",
              "\n",
              "  <svg xmlns=\"http://www.w3.org/2000/svg\" height=\"24px\"viewBox=\"0 0 24 24\"\n",
              "       width=\"24px\">\n",
              "    <path d=\"M0 0h24v24H0V0z\" fill=\"none\"/>\n",
              "    <path d=\"M18.56 5.44l.94 2.06.94-2.06 2.06-.94-2.06-.94-.94-2.06-.94 2.06-2.06.94zm-11 1L8.5 8.5l.94-2.06 2.06-.94-2.06-.94L8.5 2.5l-.94 2.06-2.06.94zm10 10l.94 2.06.94-2.06 2.06-.94-2.06-.94-.94-2.06-.94 2.06-2.06.94z\"/><path d=\"M17.41 7.96l-1.37-1.37c-.4-.4-.92-.59-1.43-.59-.52 0-1.04.2-1.43.59L10.3 9.45l-7.72 7.72c-.78.78-.78 2.05 0 2.83L4 21.41c.39.39.9.59 1.41.59.51 0 1.02-.2 1.41-.59l7.78-7.78 2.81-2.81c.8-.78.8-2.07 0-2.86zM5.41 20L4 18.59l7.72-7.72 1.47 1.35L5.41 20z\"/>\n",
              "  </svg>\n",
              "      </button>\n",
              "\n",
              "\n",
              "\n",
              "    <div id=\"df-6c33e5fc-0841-465c-8408-67e424499ee3\">\n",
              "      <button class=\"colab-df-quickchart\" onclick=\"quickchart('df-6c33e5fc-0841-465c-8408-67e424499ee3')\"\n",
              "              title=\"Suggest charts.\"\n",
              "              style=\"display:none;\">\n",
              "\n",
              "<svg xmlns=\"http://www.w3.org/2000/svg\" height=\"24px\"viewBox=\"0 0 24 24\"\n",
              "     width=\"24px\">\n",
              "    <g>\n",
              "        <path d=\"M19 3H5c-1.1 0-2 .9-2 2v14c0 1.1.9 2 2 2h14c1.1 0 2-.9 2-2V5c0-1.1-.9-2-2-2zM9 17H7v-7h2v7zm4 0h-2V7h2v10zm4 0h-2v-4h2v4z\"/>\n",
              "    </g>\n",
              "</svg>\n",
              "      </button>\n",
              "    </div>\n",
              "\n",
              "<style>\n",
              "  .colab-df-quickchart {\n",
              "    background-color: #E8F0FE;\n",
              "    border: none;\n",
              "    border-radius: 50%;\n",
              "    cursor: pointer;\n",
              "    display: none;\n",
              "    fill: #1967D2;\n",
              "    height: 32px;\n",
              "    padding: 0 0 0 0;\n",
              "    width: 32px;\n",
              "  }\n",
              "\n",
              "  .colab-df-quickchart:hover {\n",
              "    background-color: #E2EBFA;\n",
              "    box-shadow: 0px 1px 2px rgba(60, 64, 67, 0.3), 0px 1px 3px 1px rgba(60, 64, 67, 0.15);\n",
              "    fill: #174EA6;\n",
              "  }\n",
              "\n",
              "  [theme=dark] .colab-df-quickchart {\n",
              "    background-color: #3B4455;\n",
              "    fill: #D2E3FC;\n",
              "  }\n",
              "\n",
              "  [theme=dark] .colab-df-quickchart:hover {\n",
              "    background-color: #434B5C;\n",
              "    box-shadow: 0px 1px 3px 1px rgba(0, 0, 0, 0.15);\n",
              "    filter: drop-shadow(0px 1px 2px rgba(0, 0, 0, 0.3));\n",
              "    fill: #FFFFFF;\n",
              "  }\n",
              "</style>\n",
              "\n",
              "    <script>\n",
              "      async function quickchart(key) {\n",
              "        const containerElement = document.querySelector('#' + key);\n",
              "        const charts = await google.colab.kernel.invokeFunction(\n",
              "            'suggestCharts', [key], {});\n",
              "      }\n",
              "    </script>\n",
              "\n",
              "      <script>\n",
              "\n",
              "function displayQuickchartButton(domScope) {\n",
              "  let quickchartButtonEl =\n",
              "    domScope.querySelector('#df-6c33e5fc-0841-465c-8408-67e424499ee3 button.colab-df-quickchart');\n",
              "  quickchartButtonEl.style.display =\n",
              "    google.colab.kernel.accessAllowed ? 'block' : 'none';\n",
              "}\n",
              "\n",
              "        displayQuickchartButton(document);\n",
              "      </script>\n",
              "      <style>\n",
              "    .colab-df-container {\n",
              "      display:flex;\n",
              "      flex-wrap:wrap;\n",
              "      gap: 12px;\n",
              "    }\n",
              "\n",
              "    .colab-df-convert {\n",
              "      background-color: #E8F0FE;\n",
              "      border: none;\n",
              "      border-radius: 50%;\n",
              "      cursor: pointer;\n",
              "      display: none;\n",
              "      fill: #1967D2;\n",
              "      height: 32px;\n",
              "      padding: 0 0 0 0;\n",
              "      width: 32px;\n",
              "    }\n",
              "\n",
              "    .colab-df-convert:hover {\n",
              "      background-color: #E2EBFA;\n",
              "      box-shadow: 0px 1px 2px rgba(60, 64, 67, 0.3), 0px 1px 3px 1px rgba(60, 64, 67, 0.15);\n",
              "      fill: #174EA6;\n",
              "    }\n",
              "\n",
              "    [theme=dark] .colab-df-convert {\n",
              "      background-color: #3B4455;\n",
              "      fill: #D2E3FC;\n",
              "    }\n",
              "\n",
              "    [theme=dark] .colab-df-convert:hover {\n",
              "      background-color: #434B5C;\n",
              "      box-shadow: 0px 1px 3px 1px rgba(0, 0, 0, 0.15);\n",
              "      filter: drop-shadow(0px 1px 2px rgba(0, 0, 0, 0.3));\n",
              "      fill: #FFFFFF;\n",
              "    }\n",
              "  </style>\n",
              "\n",
              "      <script>\n",
              "        const buttonEl =\n",
              "          document.querySelector('#df-9f4e5b74-a075-467d-8cd0-136a0061f5fe button.colab-df-convert');\n",
              "        buttonEl.style.display =\n",
              "          google.colab.kernel.accessAllowed ? 'block' : 'none';\n",
              "\n",
              "        async function convertToInteractive(key) {\n",
              "          const element = document.querySelector('#df-9f4e5b74-a075-467d-8cd0-136a0061f5fe');\n",
              "          const dataTable =\n",
              "            await google.colab.kernel.invokeFunction('convertToInteractive',\n",
              "                                                     [key], {});\n",
              "          if (!dataTable) return;\n",
              "\n",
              "          const docLinkHtml = 'Like what you see? Visit the ' +\n",
              "            '<a target=\"_blank\" href=https://colab.research.google.com/notebooks/data_table.ipynb>data table notebook</a>'\n",
              "            + ' to learn more about interactive tables.';\n",
              "          element.innerHTML = '';\n",
              "          dataTable['output_type'] = 'display_data';\n",
              "          await google.colab.output.renderOutput(dataTable, element);\n",
              "          const docLink = document.createElement('div');\n",
              "          docLink.innerHTML = docLinkHtml;\n",
              "          element.appendChild(docLink);\n",
              "        }\n",
              "      </script>\n",
              "    </div>\n",
              "  </div>\n"
            ]
          },
          "metadata": {},
          "execution_count": 10
        }
      ],
      "source": [
        "# View Data Sample\n",
        "# Use df.sample(n=X)\n",
        "\n",
        "train_df.sample(n=5)"
      ]
    },
    {
      "cell_type": "code",
      "execution_count": null,
      "id": "70fdcbb6-2b65-44e0-8add-7b8ccdb0cdb5",
      "metadata": {
        "id": "70fdcbb6-2b65-44e0-8add-7b8ccdb0cdb5",
        "colab": {
          "base_uri": "https://localhost:8080/"
        },
        "outputId": "0a943e3c-9454-40e7-9122-a0db55156604"
      },
      "outputs": [
        {
          "output_type": "stream",
          "name": "stdout",
          "text": [
            "<class 'pandas.core.frame.DataFrame'>\n",
            "RangeIndex: 100 entries, 0 to 99\n",
            "Data columns (total 6 columns):\n",
            " #   Column      Non-Null Count  Dtype \n",
            "---  ------      --------------  ----- \n",
            " 0   Unnamed: 0  100 non-null    int64 \n",
            " 1   id          100 non-null    int64 \n",
            " 2   title       99 non-null     object\n",
            " 3   author      89 non-null     object\n",
            " 4   text        100 non-null    object\n",
            " 5   label       100 non-null    int64 \n",
            "dtypes: int64(3), object(3)\n",
            "memory usage: 4.8+ KB\n"
          ]
        }
      ],
      "source": [
        "# Investigate Null Values\n",
        "# Use .info()\n",
        "\n",
        "train_df.info()"
      ]
    },
    {
      "cell_type": "code",
      "execution_count": null,
      "id": "4d8a04ca-8dff-4651-9c3f-751426f92ecf",
      "metadata": {
        "id": "4d8a04ca-8dff-4651-9c3f-751426f92ecf"
      },
      "outputs": [],
      "source": [
        "# Drop Null Values\n",
        "# Use dropna\n",
        "\n",
        "train_df.dropna(axis=0, how='any', inplace=True)"
      ]
    },
    {
      "cell_type": "markdown",
      "id": "44eab58d-4836-4a77-94e7-42c5b19305b7",
      "metadata": {
        "id": "44eab58d-4836-4a77-94e7-42c5b19305b7"
      },
      "source": [
        "# Data Preprocessing\n",
        "\n",
        "Here's a list of things you could do:\n",
        "\n",
        "1. Tokenize\n",
        "2. Remove Stopwords\n",
        "3. Remove punctuations, single characters\n",
        "4. Apply Lemma\n",
        "5. Pos tags\n",
        "  \n",
        "Recommend choosing a sample text and working on the logic for that. Take a sample of about 5 texts from the actual dataset and test for errors/performance."
      ]
    },
    {
      "cell_type": "code",
      "source": [
        "train_df['text'][:1]"
      ],
      "metadata": {
        "colab": {
          "base_uri": "https://localhost:8080/"
        },
        "id": "7CHwhzcp8Z2b",
        "outputId": "04f78720-9b63-4baa-a4d2-777477d20b6e"
      },
      "id": "7CHwhzcp8Z2b",
      "execution_count": null,
      "outputs": [
        {
          "output_type": "execute_result",
          "data": {
            "text/plain": [
              "0    House Dem Aide: We Didn’t Even See Comey’s Let...\n",
              "Name: text, dtype: object"
            ]
          },
          "metadata": {},
          "execution_count": 13
        }
      ]
    },
    {
      "cell_type": "code",
      "execution_count": 17,
      "id": "56df4874-62e7-4b2c-90fa-2074c720bbaf",
      "metadata": {
        "id": "56df4874-62e7-4b2c-90fa-2074c720bbaf"
      },
      "outputs": [],
      "source": [
        "lm = WordNetLemmatizer()\n",
        "\n",
        "def preprocess_data(input_text):\n",
        "    \"\"\"\n",
        "    Example: Financial Markets admin \\nThe good news\n",
        "    Steps:\n",
        "    1. Tokenize\n",
        "    2. Remove Stopwords\n",
        "    3. Remove punctuations, single characters\n",
        "    4. Apply Lemma\n",
        "    5. Add a condition that if the length of the characters is greater than X, then only will train and predict.\n",
        "\n",
        "     -- anything else you'd like --\n",
        "\n",
        "    :param input_text: String\n",
        "    :return: String\n",
        "    \"\"\"\n",
        "    try:\n",
        "        if len(input_text) > 100:\n",
        "            _tokens = nltk.pos_tag(word_tokenize(input_text.lower()))\n",
        "            output_tokens = []\n",
        "            for each_token, pos_tag in _tokens:\n",
        "                if len(each_token) > 1 and each_token not in stopwords:\n",
        "                    _tag = pos_tag[0].lower()\n",
        "                    if _tag in ['a', 'r', 'n', 'v']:\n",
        "                        # print(f\"{each_token}: {lm.lemmatize(each_token, pos=_tag)}\")\n",
        "                        _lemma = lm.lemmatize(each_token, pos=_tag)\n",
        "                        output_tokens.append(_lemma)\n",
        "            return \" \".join(output_tokens)\n",
        "        else:\n",
        "            return None\n",
        "    except TypeError as te:\n",
        "        print(input_text)"
      ]
    },
    {
      "cell_type": "code",
      "execution_count": 18,
      "id": "62877498-6be3-4f87-8e29-336b2b9e3241",
      "metadata": {
        "id": "62877498-6be3-4f87-8e29-336b2b9e3241"
      },
      "outputs": [],
      "source": [
        "train_df['text_cleaned'] = train_df['text'].apply(lambda x: preprocess_data(x))"
      ]
    },
    {
      "cell_type": "code",
      "source": [],
      "metadata": {
        "id": "19azB6rptV7s"
      },
      "id": "19azB6rptV7s",
      "execution_count": null,
      "outputs": []
    },
    {
      "cell_type": "markdown",
      "id": "23197209-b3dd-44c2-acf2-9debbf321a3f",
      "metadata": {
        "id": "23197209-b3dd-44c2-acf2-9debbf321a3f"
      },
      "source": [
        "# ML Imports"
      ]
    },
    {
      "cell_type": "code",
      "execution_count": null,
      "id": "7596004e-9433-436f-9a88-bb772ef4b458",
      "metadata": {
        "id": "7596004e-9433-436f-9a88-bb772ef4b458"
      },
      "outputs": [],
      "source": [
        "from sklearn.model_selection import train_test_split\n",
        "from sklearn.feature_extraction.text import CountVectorizer\n",
        "from sklearn.linear_model import LogisticRegression\n",
        "from sklearn.metrics import precision_score, recall_score, f1_score, accuracy_score"
      ]
    },
    {
      "cell_type": "markdown",
      "id": "451617c2-04ab-40e1-a230-8fc7b84ea3a8",
      "metadata": {
        "id": "451617c2-04ab-40e1-a230-8fc7b84ea3a8"
      },
      "source": [
        "# Split your data\n",
        "\n",
        "Link - https://scikit-learn.org/stable/modules/generated/sklearn.model_selection.train_test_split.html"
      ]
    },
    {
      "cell_type": "code",
      "execution_count": null,
      "id": "54dea261-f5b0-493b-9380-3b5623f6806b",
      "metadata": {
        "id": "54dea261-f5b0-493b-9380-3b5623f6806b"
      },
      "outputs": [],
      "source": [
        "# use train_test_split"
      ]
    },
    {
      "cell_type": "code",
      "execution_count": null,
      "id": "a90e7c6b-997c-4cd9-8fc9-c8908a86312e",
      "metadata": {
        "id": "a90e7c6b-997c-4cd9-8fc9-c8908a86312e"
      },
      "outputs": [],
      "source": []
    },
    {
      "cell_type": "markdown",
      "id": "5e464461-54b2-462e-ae03-8455510e8ab8",
      "metadata": {
        "id": "5e464461-54b2-462e-ae03-8455510e8ab8"
      },
      "source": [
        "# Count Vectorizer\n",
        "\n",
        "CountVectorizer - https://www.geeksforgeeks.org/using-countvectorizer-to-extracting-features-from-text/\n",
        "\n",
        "Read more - https://www.geeksforgeeks.org/using-countvectorizer-to-extracting-features-from-text/"
      ]
    },
    {
      "cell_type": "code",
      "execution_count": null,
      "id": "70b0b185-7e5c-436c-bfea-935ae2170322",
      "metadata": {
        "id": "70b0b185-7e5c-436c-bfea-935ae2170322"
      },
      "outputs": [],
      "source": [
        "# Initialize CountVectorizer"
      ]
    },
    {
      "cell_type": "code",
      "execution_count": null,
      "id": "f6b42ed0-b7e2-4bf7-965e-d3204253b26f",
      "metadata": {
        "id": "f6b42ed0-b7e2-4bf7-965e-d3204253b26f"
      },
      "outputs": [],
      "source": [
        "# Fit CountVectorizer on train data"
      ]
    },
    {
      "cell_type": "code",
      "execution_count": null,
      "id": "bd553307-a62f-4708-87c3-c85e3899b848",
      "metadata": {
        "id": "bd553307-a62f-4708-87c3-c85e3899b848"
      },
      "outputs": [],
      "source": [
        "# Transform CountVectorizer on train data"
      ]
    },
    {
      "cell_type": "code",
      "execution_count": null,
      "id": "6389afe3-bd23-4551-bdb9-6db96d36d28e",
      "metadata": {
        "id": "6389afe3-bd23-4551-bdb9-6db96d36d28e"
      },
      "outputs": [],
      "source": [
        "# Transform CountVectorizer on test data"
      ]
    },
    {
      "cell_type": "code",
      "execution_count": null,
      "id": "a3c85eab-cd80-4ff6-828a-9c8403ccdf23",
      "metadata": {
        "id": "a3c85eab-cd80-4ff6-828a-9c8403ccdf23"
      },
      "outputs": [],
      "source": []
    },
    {
      "cell_type": "markdown",
      "id": "ab3a2780-af84-4a40-b565-aab8abe13c5f",
      "metadata": {
        "id": "ab3a2780-af84-4a40-b565-aab8abe13c5f"
      },
      "source": [
        "# Fit a Classifier\n",
        "\n",
        "**Scikit-Learn Docs:**\n",
        "\n",
        "Logistic Regression - https://scikit-learn.org/stable/modules/generated/sklearn.linear_model.LogisticRegression.html\n",
        "\n",
        "Available Metrics - https://scikit-learn.org/stable/modules/classes.html#module-sklearn.metrics"
      ]
    },
    {
      "cell_type": "code",
      "execution_count": null,
      "id": "cbf856cb-49f0-4f32-be52-11d2b0917e7b",
      "metadata": {
        "id": "cbf856cb-49f0-4f32-be52-11d2b0917e7b"
      },
      "outputs": [],
      "source": [
        "# Try LogisticRegression first\n",
        "# Initialize LogisticRegression\n"
      ]
    },
    {
      "cell_type": "code",
      "execution_count": null,
      "id": "7359a281-850b-4341-8d09-f5e7c3e16006",
      "metadata": {
        "id": "7359a281-850b-4341-8d09-f5e7c3e16006"
      },
      "outputs": [],
      "source": [
        "# Fit on train and target"
      ]
    },
    {
      "cell_type": "code",
      "execution_count": null,
      "id": "5ddee0e8-7d18-4fc1-9eb6-f04842359deb",
      "metadata": {
        "id": "5ddee0e8-7d18-4fc1-9eb6-f04842359deb"
      },
      "outputs": [],
      "source": [
        "# Predict on test data"
      ]
    },
    {
      "cell_type": "code",
      "execution_count": null,
      "id": "92d18f87-a7ff-4634-9f7f-816656d963ad",
      "metadata": {
        "id": "92d18f87-a7ff-4634-9f7f-816656d963ad"
      },
      "outputs": [],
      "source": [
        "# Compare results\n",
        "# Try Accuracy / ClassificationReport"
      ]
    },
    {
      "cell_type": "code",
      "execution_count": null,
      "id": "751688da-d791-499d-b907-91c912a865e4",
      "metadata": {
        "id": "751688da-d791-499d-b907-91c912a865e4"
      },
      "outputs": [],
      "source": []
    },
    {
      "cell_type": "markdown",
      "id": "39fee276-b721-46d7-b226-6fd0fb4769e2",
      "metadata": {
        "id": "39fee276-b721-46d7-b226-6fd0fb4769e2"
      },
      "source": [
        "# Apply TF-IDF after Count Vectorizer\n",
        "\n",
        "TfidfTransformer - https://scikit-learn.org/stable/modules/generated/sklearn.feature_extraction.text.TfidfTransformer.html\n",
        "\n",
        "Read more - https://www.geeksforgeeks.org/understanding-tf-idf-term-frequency-inverse-document-frequency/"
      ]
    },
    {
      "cell_type": "code",
      "execution_count": null,
      "id": "0d6621e1-ed73-49c7-a11d-326ce22e1b3d",
      "metadata": {
        "id": "0d6621e1-ed73-49c7-a11d-326ce22e1b3d"
      },
      "outputs": [],
      "source": [
        "# Initialize, fit and transform - CV and TFIDF\n",
        "# Fit and Predict"
      ]
    },
    {
      "cell_type": "code",
      "execution_count": null,
      "id": "7344e740-73c4-4e70-af5d-57e3f98224cc",
      "metadata": {
        "id": "7344e740-73c4-4e70-af5d-57e3f98224cc"
      },
      "outputs": [],
      "source": []
    },
    {
      "cell_type": "code",
      "execution_count": null,
      "id": "5ce4ca32-539d-40ec-9c9d-cbfd1e0b8421",
      "metadata": {
        "id": "5ce4ca32-539d-40ec-9c9d-cbfd1e0b8421"
      },
      "outputs": [],
      "source": []
    }
  ],
  "metadata": {
    "kernelspec": {
      "display_name": "Python 3 (ipykernel)",
      "language": "python",
      "name": "python3"
    },
    "language_info": {
      "codemirror_mode": {
        "name": "ipython",
        "version": 3
      },
      "file_extension": ".py",
      "mimetype": "text/x-python",
      "name": "python",
      "nbconvert_exporter": "python",
      "pygments_lexer": "ipython3",
      "version": "3.9.13"
    },
    "colab": {
      "provenance": [],
      "include_colab_link": true
    }
  },
  "nbformat": 4,
  "nbformat_minor": 5
}