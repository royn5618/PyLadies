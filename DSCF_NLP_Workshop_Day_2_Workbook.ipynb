{
  "cells": [
    {
      "cell_type": "markdown",
      "metadata": {
        "id": "view-in-github",
        "colab_type": "text"
      },
      "source": [
        "<a href=\"https://colab.research.google.com/github/royn5618/Talks_Resources/blob/main/DSCF_NLP_Workshop_Day_2_Workbook.ipynb\" target=\"_parent\"><img src=\"https://colab.research.google.com/assets/colab-badge.svg\" alt=\"Open In Colab\"/></a>"
      ]
    },
    {
      "cell_type": "markdown",
      "id": "bab94bea-a5c0-402c-9853-153649e04e43",
      "metadata": {
        "id": "bab94bea-a5c0-402c-9853-153649e04e43"
      },
      "source": [
        "# Imports"
      ]
    },
    {
      "cell_type": "code",
      "execution_count": null,
      "id": "402cced1-3236-4d4e-b3c2-5e4dc7fd8bf9",
      "metadata": {
        "colab": {
          "base_uri": "https://localhost:8080/"
        },
        "id": "402cced1-3236-4d4e-b3c2-5e4dc7fd8bf9",
        "outputId": "1be90bed-5f4b-4449-b4f3-150aa5f19ea2"
      },
      "outputs": [
        {
          "output_type": "stream",
          "name": "stderr",
          "text": [
            "[nltk_data] Downloading package stopwords to /root/nltk_data...\n",
            "[nltk_data]   Unzipping corpora/stopwords.zip.\n",
            "[nltk_data] Downloading package punkt to /root/nltk_data...\n",
            "[nltk_data]   Unzipping tokenizers/punkt.zip.\n",
            "[nltk_data] Downloading package wordnet to /root/nltk_data...\n",
            "[nltk_data] Downloading package averaged_perceptron_tagger to\n",
            "[nltk_data]     /root/nltk_data...\n",
            "[nltk_data]   Unzipping taggers/averaged_perceptron_tagger.zip.\n"
          ]
        },
        {
          "output_type": "execute_result",
          "data": {
            "text/plain": [
              "True"
            ]
          },
          "metadata": {},
          "execution_count": 2
        }
      ],
      "source": [
        "import re\n",
        "\n",
        "import pandas as pd\n",
        "import numpy as np\n",
        "\n",
        "import matplotlib.pyplot as plt\n",
        "from matplotlib import rcParams\n",
        "plt.rcParams['figure.figsize'] = [10,10]\n",
        "import seaborn as sns\n",
        "sns.set_theme(style=\"darkgrid\")\n",
        "\n",
        "import nltk\n",
        "from nltk.tokenize import word_tokenize\n",
        "from nltk.stem.wordnet import WordNetLemmatizer\n",
        "from nltk.corpus import wordnet\n",
        "from nltk.corpus import stopwords\n",
        "nltk.download('stopwords')\n",
        "stopwords = nltk.corpus.stopwords.words('english')\n",
        "nltk.download('punkt')\n",
        "nltk.download('wordnet')\n",
        "nltk.download('averaged_perceptron_tagger')"
      ]
    },
    {
      "cell_type": "markdown",
      "id": "9ec5f6bd-8f31-4747-a9db-25a90745d076",
      "metadata": {
        "id": "9ec5f6bd-8f31-4747-a9db-25a90745d076"
      },
      "source": [
        "# Load Data"
      ]
    },
    {
      "cell_type": "code",
      "execution_count": null,
      "id": "bcd4e4f2-c952-4c23-891b-9ce93561c5fa",
      "metadata": {
        "id": "bcd4e4f2-c952-4c23-891b-9ce93561c5fa"
      },
      "outputs": [],
      "source": [
        "train_df_ = pd.read_csv('Data/train.csv')\n",
        "test_df = pd.read_csv('Data/test.csv')"
      ]
    },
    {
      "cell_type": "code",
      "execution_count": null,
      "id": "9f89a165-83fc-4b9b-b4b5-3cf256150a04",
      "metadata": {
        "id": "9f89a165-83fc-4b9b-b4b5-3cf256150a04",
        "outputId": "96a926a0-1caa-4796-adee-ed0e109c5f7c"
      },
      "outputs": [
        {
          "data": {
            "text/plain": [
              "(20800, 5)"
            ]
          },
          "execution_count": 12,
          "metadata": {},
          "output_type": "execute_result"
        }
      ],
      "source": [
        "train_df_.shape"
      ]
    },
    {
      "cell_type": "code",
      "execution_count": null,
      "id": "3eff2448-2f16-4e5c-84cd-9d216fd8b60a",
      "metadata": {
        "id": "3eff2448-2f16-4e5c-84cd-9d216fd8b60a",
        "outputId": "e88e88e6-342e-436c-e3ec-f694b7a0bf02"
      },
      "outputs": [
        {
          "data": {
            "text/plain": [
              "(10000, 5)"
            ]
          },
          "execution_count": 16,
          "metadata": {},
          "output_type": "execute_result"
        }
      ],
      "source": [
        "train_df = train_df_[:100].copy()\n",
        "train_df.shape"
      ]
    },
    {
      "cell_type": "code",
      "execution_count": null,
      "id": "915a1fb1-dec8-4282-ba95-6aa0813e26dc",
      "metadata": {
        "id": "915a1fb1-dec8-4282-ba95-6aa0813e26dc"
      },
      "outputs": [],
      "source": [
        "# Check the first few rows\n",
        "# .head()\n",
        "\n",
        "train_df"
      ]
    },
    {
      "cell_type": "code",
      "execution_count": null,
      "id": "5c765a9d-a21e-4c47-9423-a74be930d736",
      "metadata": {
        "id": "5c765a9d-a21e-4c47-9423-a74be930d736",
        "outputId": "4920ec04-da5a-4235-9d98-b44dba08a729"
      },
      "outputs": [
        {
          "data": {
            "text/plain": [
              "1    5004\n",
              "0    4996\n",
              "Name: label, dtype: int64"
            ]
          },
          "execution_count": 17,
          "metadata": {},
          "output_type": "execute_result"
        }
      ],
      "source": [
        "# Check the 'label' distribution\n",
        "\n",
        "train_df['label'].value_counts()"
      ]
    },
    {
      "cell_type": "code",
      "execution_count": null,
      "id": "76112ec8-2087-43a9-816c-c82c68559de9",
      "metadata": {
        "id": "76112ec8-2087-43a9-816c-c82c68559de9",
        "outputId": "b0824e12-3cec-4ea3-e7d0-ffe765395201"
      },
      "outputs": [
        {
          "data": {
            "text/plain": [
              "(5200, 4)"
            ]
          },
          "execution_count": 18,
          "metadata": {},
          "output_type": "execute_result"
        }
      ],
      "source": [
        "test_df.shape"
      ]
    },
    {
      "cell_type": "code",
      "execution_count": null,
      "id": "6c3fd6dd-c942-486d-bb04-7f06554247df",
      "metadata": {
        "id": "6c3fd6dd-c942-486d-bb04-7f06554247df"
      },
      "outputs": [],
      "source": [
        "# View Data Sample\n",
        "# Use df.sample(n=X)\n",
        "\n",
        "train_df.sample"
      ]
    },
    {
      "cell_type": "code",
      "execution_count": null,
      "id": "70fdcbb6-2b65-44e0-8add-7b8ccdb0cdb5",
      "metadata": {
        "id": "70fdcbb6-2b65-44e0-8add-7b8ccdb0cdb5"
      },
      "outputs": [],
      "source": [
        "# Investigate Null Values\n",
        "# Use .info()\n",
        "\n",
        "train_df.info"
      ]
    },
    {
      "cell_type": "code",
      "execution_count": null,
      "id": "4d8a04ca-8dff-4651-9c3f-751426f92ecf",
      "metadata": {
        "id": "4d8a04ca-8dff-4651-9c3f-751426f92ecf"
      },
      "outputs": [],
      "source": [
        "# Drop Null Values\n",
        "# Use dropna\n",
        "\n",
        "train_df.dropna"
      ]
    },
    {
      "cell_type": "markdown",
      "id": "44eab58d-4836-4a77-94e7-42c5b19305b7",
      "metadata": {
        "id": "44eab58d-4836-4a77-94e7-42c5b19305b7"
      },
      "source": [
        "# Data Preprocessing\n",
        "\n",
        "Here's a list of things you could do:\n",
        "\n",
        "1. Tokenize\n",
        "2. Remove Stopwords\n",
        "3. Remove punctuations, single characters\n",
        "4. Apply Lemma\n",
        "5. Pos tags\n",
        "  \n",
        "Recommend choosing a sample text and working on the logic for that. Take a sample of about 5 texts from the actual dataset and test for errors/performance."
      ]
    },
    {
      "cell_type": "code",
      "execution_count": null,
      "id": "56df4874-62e7-4b2c-90fa-2074c720bbaf",
      "metadata": {
        "id": "56df4874-62e7-4b2c-90fa-2074c720bbaf"
      },
      "outputs": [],
      "source": [
        "def preprocess_data(input_text):\n",
        "    \"\"\"\n",
        "    Example: Financial Markets admin \\nThe good news\n",
        "    Steps:\n",
        "    1. Tokenize\n",
        "    2. Remove Stopwords\n",
        "    3. Remove punctuations, single characters\n",
        "    4. Apply Lemma\n",
        "    5. Add a condition that if the length of the characters is greater than X, then only will train and predict.\n",
        "\n",
        "     -- anything else you'd like --\n",
        "\n",
        "    :param input_text: String\n",
        "    :return: String\n",
        "    \"\"\"\n",
        "    # This is a sample starting point\n",
        "    for each_token in input_text.split(' '):\n",
        "        print(each_token)\n",
        "    pass"
      ]
    },
    {
      "cell_type": "code",
      "execution_count": null,
      "id": "62877498-6be3-4f87-8e29-336b2b9e3241",
      "metadata": {
        "id": "62877498-6be3-4f87-8e29-336b2b9e3241"
      },
      "outputs": [],
      "source": [
        "train_df['text_cleaned'] = train_df['text'].apply(lambda x: preprocess_data(x))"
      ]
    },
    {
      "cell_type": "code",
      "execution_count": null,
      "id": "aac1caad-3b60-4671-9c88-e4d6e5727da5",
      "metadata": {
        "id": "aac1caad-3b60-4671-9c88-e4d6e5727da5"
      },
      "outputs": [],
      "source": []
    },
    {
      "cell_type": "markdown",
      "id": "23197209-b3dd-44c2-acf2-9debbf321a3f",
      "metadata": {
        "id": "23197209-b3dd-44c2-acf2-9debbf321a3f"
      },
      "source": [
        "# ML Imports"
      ]
    },
    {
      "cell_type": "code",
      "execution_count": null,
      "id": "7596004e-9433-436f-9a88-bb772ef4b458",
      "metadata": {
        "id": "7596004e-9433-436f-9a88-bb772ef4b458"
      },
      "outputs": [],
      "source": [
        "from sklearn.model_selection import train_test_split\n",
        "from sklearn.feature_extraction.text import CountVectorizer\n",
        "from sklearn.linear_model import LogisticRegression\n",
        "from sklearn.metrics import precision_score, recall_score, f1_score, accuracy_score"
      ]
    },
    {
      "cell_type": "markdown",
      "id": "451617c2-04ab-40e1-a230-8fc7b84ea3a8",
      "metadata": {
        "id": "451617c2-04ab-40e1-a230-8fc7b84ea3a8"
      },
      "source": [
        "# Split your data\n",
        "\n",
        "Link - https://scikit-learn.org/stable/modules/generated/sklearn.model_selection.train_test_split.html"
      ]
    },
    {
      "cell_type": "code",
      "execution_count": null,
      "id": "54dea261-f5b0-493b-9380-3b5623f6806b",
      "metadata": {
        "id": "54dea261-f5b0-493b-9380-3b5623f6806b"
      },
      "outputs": [],
      "source": [
        "# use train_test_split"
      ]
    },
    {
      "cell_type": "code",
      "execution_count": null,
      "id": "a90e7c6b-997c-4cd9-8fc9-c8908a86312e",
      "metadata": {
        "id": "a90e7c6b-997c-4cd9-8fc9-c8908a86312e"
      },
      "outputs": [],
      "source": []
    },
    {
      "cell_type": "markdown",
      "id": "5e464461-54b2-462e-ae03-8455510e8ab8",
      "metadata": {
        "id": "5e464461-54b2-462e-ae03-8455510e8ab8"
      },
      "source": [
        "# Count Vectorizer\n",
        "\n",
        "CountVectorizer - https://www.geeksforgeeks.org/using-countvectorizer-to-extracting-features-from-text/\n",
        "\n",
        "Read more - https://www.geeksforgeeks.org/using-countvectorizer-to-extracting-features-from-text/"
      ]
    },
    {
      "cell_type": "code",
      "execution_count": null,
      "id": "70b0b185-7e5c-436c-bfea-935ae2170322",
      "metadata": {
        "id": "70b0b185-7e5c-436c-bfea-935ae2170322"
      },
      "outputs": [],
      "source": [
        "# Initialize CountVectorizer"
      ]
    },
    {
      "cell_type": "code",
      "execution_count": null,
      "id": "f6b42ed0-b7e2-4bf7-965e-d3204253b26f",
      "metadata": {
        "id": "f6b42ed0-b7e2-4bf7-965e-d3204253b26f"
      },
      "outputs": [],
      "source": [
        "# Fit CountVectorizer on train data"
      ]
    },
    {
      "cell_type": "code",
      "execution_count": null,
      "id": "bd553307-a62f-4708-87c3-c85e3899b848",
      "metadata": {
        "id": "bd553307-a62f-4708-87c3-c85e3899b848"
      },
      "outputs": [],
      "source": [
        "# Transform CountVectorizer on train data"
      ]
    },
    {
      "cell_type": "code",
      "execution_count": null,
      "id": "6389afe3-bd23-4551-bdb9-6db96d36d28e",
      "metadata": {
        "id": "6389afe3-bd23-4551-bdb9-6db96d36d28e"
      },
      "outputs": [],
      "source": [
        "# Transform CountVectorizer on test data"
      ]
    },
    {
      "cell_type": "code",
      "execution_count": null,
      "id": "a3c85eab-cd80-4ff6-828a-9c8403ccdf23",
      "metadata": {
        "id": "a3c85eab-cd80-4ff6-828a-9c8403ccdf23"
      },
      "outputs": [],
      "source": []
    },
    {
      "cell_type": "markdown",
      "id": "ab3a2780-af84-4a40-b565-aab8abe13c5f",
      "metadata": {
        "id": "ab3a2780-af84-4a40-b565-aab8abe13c5f"
      },
      "source": [
        "# Fit a Classifier\n",
        "\n",
        "**Scikit-Learn Docs:**\n",
        "\n",
        "Logistic Regression - https://scikit-learn.org/stable/modules/generated/sklearn.linear_model.LogisticRegression.html\n",
        "\n",
        "Available Metrics - https://scikit-learn.org/stable/modules/classes.html#module-sklearn.metrics"
      ]
    },
    {
      "cell_type": "code",
      "execution_count": null,
      "id": "cbf856cb-49f0-4f32-be52-11d2b0917e7b",
      "metadata": {
        "id": "cbf856cb-49f0-4f32-be52-11d2b0917e7b"
      },
      "outputs": [],
      "source": [
        "# Try LogisticRegression first\n",
        "# Initialize LogisticRegression\n"
      ]
    },
    {
      "cell_type": "code",
      "execution_count": null,
      "id": "7359a281-850b-4341-8d09-f5e7c3e16006",
      "metadata": {
        "id": "7359a281-850b-4341-8d09-f5e7c3e16006"
      },
      "outputs": [],
      "source": [
        "# Fit on train and target"
      ]
    },
    {
      "cell_type": "code",
      "execution_count": null,
      "id": "5ddee0e8-7d18-4fc1-9eb6-f04842359deb",
      "metadata": {
        "id": "5ddee0e8-7d18-4fc1-9eb6-f04842359deb"
      },
      "outputs": [],
      "source": [
        "# Predict on test data"
      ]
    },
    {
      "cell_type": "code",
      "execution_count": null,
      "id": "92d18f87-a7ff-4634-9f7f-816656d963ad",
      "metadata": {
        "id": "92d18f87-a7ff-4634-9f7f-816656d963ad"
      },
      "outputs": [],
      "source": [
        "# Compare results\n",
        "# Try Accuracy / ClassificationReport"
      ]
    },
    {
      "cell_type": "code",
      "execution_count": null,
      "id": "751688da-d791-499d-b907-91c912a865e4",
      "metadata": {
        "id": "751688da-d791-499d-b907-91c912a865e4"
      },
      "outputs": [],
      "source": []
    },
    {
      "cell_type": "markdown",
      "id": "39fee276-b721-46d7-b226-6fd0fb4769e2",
      "metadata": {
        "id": "39fee276-b721-46d7-b226-6fd0fb4769e2"
      },
      "source": [
        "# Apply TF-IDF after Count Vectorizer\n",
        "\n",
        "TfidfTransformer - https://scikit-learn.org/stable/modules/generated/sklearn.feature_extraction.text.TfidfTransformer.html\n",
        "\n",
        "Read more - https://www.geeksforgeeks.org/understanding-tf-idf-term-frequency-inverse-document-frequency/"
      ]
    },
    {
      "cell_type": "code",
      "execution_count": null,
      "id": "0d6621e1-ed73-49c7-a11d-326ce22e1b3d",
      "metadata": {
        "id": "0d6621e1-ed73-49c7-a11d-326ce22e1b3d"
      },
      "outputs": [],
      "source": [
        "# Initialize, fit and transform - CV and TFIDF\n",
        "# Fit and Predict"
      ]
    },
    {
      "cell_type": "code",
      "execution_count": null,
      "id": "7344e740-73c4-4e70-af5d-57e3f98224cc",
      "metadata": {
        "id": "7344e740-73c4-4e70-af5d-57e3f98224cc"
      },
      "outputs": [],
      "source": []
    },
    {
      "cell_type": "code",
      "execution_count": null,
      "id": "5ce4ca32-539d-40ec-9c9d-cbfd1e0b8421",
      "metadata": {
        "id": "5ce4ca32-539d-40ec-9c9d-cbfd1e0b8421"
      },
      "outputs": [],
      "source": []
    }
  ],
  "metadata": {
    "kernelspec": {
      "display_name": "Python 3 (ipykernel)",
      "language": "python",
      "name": "python3"
    },
    "language_info": {
      "codemirror_mode": {
        "name": "ipython",
        "version": 3
      },
      "file_extension": ".py",
      "mimetype": "text/x-python",
      "name": "python",
      "nbconvert_exporter": "python",
      "pygments_lexer": "ipython3",
      "version": "3.9.13"
    },
    "colab": {
      "provenance": [],
      "include_colab_link": true
    }
  },
  "nbformat": 4,
  "nbformat_minor": 5
}